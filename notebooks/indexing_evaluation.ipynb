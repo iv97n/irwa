{
 "cells": [
  {
   "cell_type": "markdown",
   "metadata": {},
   "source": [
    "<p style=\"font-size:78px\">Final Project IRWA (2024-2025)</p>"
   ]
  },
  {
   "cell_type": "markdown",
   "metadata": {},
   "source": [
    "<p style=\"font-size:48px\">Part 2: Indexing and Evaluation</p>"
   ]
  },
  {
   "cell_type": "code",
   "execution_count": 1,
   "metadata": {},
   "outputs": [],
   "source": [
    "# Standard library imports\n",
    "import os\n",
    "import sys\n",
    "\n",
    "# Third-party imports\n",
    "\n",
    "\n",
    "# Local application imports\n",
    "current_dir = os.path.dirname(os.path.abspath(__file__)) if '__file__' in locals() else os.getcwd()\n",
    "project_root = os.path.join(current_dir, '..')\n",
    "if project_root not in sys.path:\n",
    "    sys.path.append(project_root)\n",
    "import irwa.loading as ild \n",
    "import irwa.preprocessing as ipp\n",
    "import irwa.indexing as ind\n",
    "import irwa.ranking as irk\n",
    "\n",
    "# The following lines allow for autoreload of modules. They allow changes in modules without the need to reload the kernel.\n",
    "%load_ext autoreload\n",
    "%autoreload 2"
   ]
  },
  {
   "cell_type": "markdown",
   "metadata": {},
   "source": [
    "# 1) Indexing"
   ]
  },
  {
   "cell_type": "code",
   "execution_count": 2,
   "metadata": {},
   "outputs": [
    {
     "name": "stdout",
     "output_type": "stream",
     "text": [
      "Loaded 117407 tweets\n",
      "Loaded 48429 documents with their corresponding tokenized tweet content\n"
     ]
    }
   ],
   "source": [
    "# Loading and preprocessing\n",
    "file_path = '../data/farmers-protest-tweets.json'\n",
    "tweets = ild.load_tweets_from_json(file_path)\n",
    "print(f\"Loaded {len(tweets)} tweets\")\n",
    "tweet_document_ids_map_df = \"../data/tweet_document_ids_map.csv\"\n",
    "docid_to_tweetid, token_tweets = ipp.create_tokenized_dictionary(tweets, tweet_document_ids_map_df)\n",
    "print(f\"Loaded {len(token_tweets)} documents with their corresponding tokenized tweet content\")"
   ]
  },
  {
   "cell_type": "code",
   "execution_count": 3,
   "metadata": {},
   "outputs": [],
   "source": [
    "# Inverted Index construction\n",
    "inverted_index = ind.create_inverted_index(token_tweets)"
   ]
  },
  {
   "cell_type": "code",
   "execution_count": 25,
   "metadata": {},
   "outputs": [],
   "source": [
    "# Definition of test queries\n",
    "query1 = [\"indian\", \"protest\"]       # Example given in handout\n",
    "query2 = [\"support\", \"farmers\"]      # Example given in handout\n",
    "query3 = [\"delhi\", \"farmers\"]\n",
    "query4 = [\"government\", \"corrupt\"]\n",
    "query5 = [\"president\", \"india\"]"
   ]
  },
  {
   "cell_type": "markdown",
   "metadata": {},
   "source": [
    "#### Query 1"
   ]
  },
  {
   "cell_type": "code",
   "execution_count": 26,
   "metadata": {},
   "outputs": [
    {
     "name": "stdout",
     "output_type": "stream",
     "text": [
      "Top 5 Results:\n",
      "Document doc_13095: 13.035678814641825\n",
      "Content: INDIAN FARMERS are protesting in DELHI for last 3 months. 220+ farmers had died so far in #FarmersProtest .Protests are held all over the world to show solidarity with Indian Farmers.A protest will be held in Australia this Sunday.\n",
      "#DPstopIntimidatingFarmers\n",
      "@UNHumanRights\n",
      "@bbc https://t.co/Ct5hqEEXRE\n",
      "Document doc_445: 12.575039678288194\n",
      "Content: Farmers Protest | Pawri Ho Rahi Hai 🌾\n",
      "Dedicated to The 2020–2021 Indian farmers' protest. #FarmersProtest​ is an ongoing protest against three farm acts which were passed by the Parliament of India in Sep 2020. Millions of farmers are protesting in India.\n",
      "https://t.co/cR5ltghf6X\n",
      "Document doc_5374: 11.534076978962176\n",
      "Content: @VP Dear madam,\n",
      "Not only Indian farmers need justice but every Indian need justice who love democracy\n",
      "please save Indian democracy and Indian constitution🙏🙏🙏\n",
      "#FarmersProtest\n",
      "Document doc_9022: 11.534076978962176\n",
      "Content: #modi_rojgar_do - indian youth.\n",
      "#FarmersProtest- kaala kanoon hates- indian farmers.\n",
      "#Petrol100NotOut - loot kam karo - indian middle class.\n",
      "#guspaitkamkaro - indian soldiers\n",
      "\n",
      "Modi is busy desperately trying to win bengal, as if without he can't manage any of the above.\n",
      "Document doc_37090: 11.073437842608545\n",
      "Content: @balbir59 @varinder11 Nothing is dented. Those are farmers. Indian media didn't show Farmers putting Indian Flag at Red Fort as well.  Propaganda led by Indian government and media. India government also forced Twitter to ban accounts supporting Farmers Protest  #FarmersProtest https://t.co/6MSies6RC5\n"
     ]
    }
   ],
   "source": [
    "# Ranking results with TF-IDF\n",
    "scores_q1 = irk.tf_idf(inverted_index, query1, token_tweets)\n",
    "irk.sort_scores_tf_idf(scores_q1, docid_to_tweetid, tweets, 5)"
   ]
  },
  {
   "cell_type": "markdown",
   "metadata": {},
   "source": [
    "#### Query 2"
   ]
  },
  {
   "cell_type": "code",
   "execution_count": 27,
   "metadata": {},
   "outputs": [
    {
     "name": "stdout",
     "output_type": "stream",
     "text": [
      "Top 5 Results:\n",
      "Document doc_36673: 10.905929444908995\n",
      "Content: We Support #FarmersProtest\n",
      "We Support #GretaThunberg \n",
      "We Support #Rehanna\n",
      "We Support #NodeepKaur\n",
      "We Support #DishaRavi\n",
      "\n",
      "#ReleaseDishaRavi #ReleaseNovdeepKaur\n",
      "Document doc_811: 6.5435576669453965\n",
      "Content: #FarmersProtest Please Check Spellings carefully before you hashtag, there are some false hashtags to confuse the supporters with the aim to increase the chances of error and of course support. ਅੱਖ ਬਾਜ ਵਾਲੀ ਰੱਖਣੀ ਜੀ ਗਲਤੀ ਤੇ ਕਰਨੀ ਨੀ.. Full Support https://t.co/YVBMuY84mP\n",
      "Document doc_4323: 6.5435576669453965\n",
      "Content: Please support farmers ... the hands that feed the world \n",
      "If you support India, then support Indian farmers\n",
      " \n",
      "🙏🏻🙏🏻🙏🏻🙏🏻🙏🏻\n",
      "\n",
      "#Pagdi_Sambhal_Jatta\n",
      "#FarmersProtest\n",
      "1 https://t.co/CqJKsxizWf\n",
      "Document doc_4325: 6.5435576669453965\n",
      "Content: #Pagdi_Sambhal_Jatta\n",
      "🇮🇳🇮🇳🇮🇳🇮🇳🇮🇳🇮🇳🇮🇳🇮🇳🇮🇳\n",
      "🚜🚜🚜🚜🚜🚜🚜🚜🚜\n",
      "Please support farmers ... the hands that feed the world \n",
      "If you support India, then support Indian farmers\n",
      " \n",
      "🙏🏻🙏🏻🙏🏻🙏🏻🙏🏻\n",
      "\n",
      "#Pagdi_Sambhal_Jatta\n",
      "#FarmersProtest\n",
      "11 https://t.co/AOpeo0wVfk\n",
      "Document doc_4333: 6.5435576669453965\n",
      "Content: #Pagdi_Sambhal_Jatta\n",
      "🇮🇳🇮🇳🇮🇳🇮🇳🇮🇳🇮🇳🇮🇳🇮🇳🇮🇳\n",
      "🚜🚜🚜🚜🚜🚜🚜🚜🚜\n",
      "Please support farmers ... the hands that feed the world \n",
      "If you support India, then support Indian farmers\n",
      " \n",
      "🙏🏻🙏🏻🙏🏻🙏🏻🙏🏻\n",
      "\n",
      "#Pagdi_Sambhal_Jatta\n",
      "#FarmersProtest\n",
      "10 https://t.co/PvGzTXnjHM\n"
     ]
    }
   ],
   "source": [
    "# Ranking results with TF-IDF\n",
    "scores_q2 = irk.tf_idf(inverted_index, query2, token_tweets)\n",
    "irk.sort_scores_tf_idf(scores_q2, docid_to_tweetid, tweets, 5)"
   ]
  },
  {
   "cell_type": "markdown",
   "metadata": {},
   "source": [
    "#### Query 3"
   ]
  },
  {
   "cell_type": "code",
   "execution_count": 28,
   "metadata": {},
   "outputs": [
    {
     "name": "stdout",
     "output_type": "stream",
     "text": [
      "Top 5 Results:\n",
      "Document doc_941: 10.344949174253891\n",
      "Content: @anilca95 @ArvindKejriwal Our honorable CM is busy with farmers from outside and handed over DELHI to #FarmersProtest He has no time or attention to problems of Delhi, yamuna continues to suffer, pollute and no govt has any policy or plan to #save yamuna! Sic of you Delhi political circles\n",
      "Document doc_3218: 10.344949174253891\n",
      "Content: @ANI Lakha Sidhana at Mehraj rally. During rally Harjit Dhapali said that if Delhi Police arrests Lakha Sadana, a protest march will be taken against Delhi police in Delhi. #FarmersProtest\n",
      "Document doc_3224: 10.344949174253891\n",
      "Content: Lakha Sidhana at Mehraj rally. During rally Harjit Dhapali said that if Delhi Police arrests Lakha Sadana, a protest march will be taken against Delhi police in Delhi. #FarmersProtest https://t.co/AkAH2K5YK6\n",
      "Document doc_3227: 10.344949174253891\n",
      "Content: Lakha Sidhana at Mehraj rally. During rally Harjit Dhapali said that if Delhi Police arrests Lakha Sadana, a protest march will be taken against Delhi police in Delhi. #FarmersProtest https://t.co/W5k5bjJW4p\n",
      "Document doc_21757: 10.344949174253891\n",
      "Content: The 'Delhi Chalo' farmers' protest at border points of New Delhi has entered the 84th day today. Thousands of farmers, especially from Punjab and Haryana, are staging a sit-in protest along Delhi borders.\n",
      " #RailRokoForFarmers #FarmersProtest\n"
     ]
    }
   ],
   "source": [
    "# Ranking results with TF-IDF\n",
    "scores_q3 = irk.tf_idf(inverted_index, query3, token_tweets)\n",
    "irk.sort_scores_tf_idf(scores_q3, docid_to_tweetid, tweets, 5)"
   ]
  },
  {
   "cell_type": "markdown",
   "metadata": {},
   "source": [
    "#### Query 4"
   ]
  },
  {
   "cell_type": "code",
   "execution_count": 29,
   "metadata": {},
   "outputs": [
    {
     "name": "stdout",
     "output_type": "stream",
     "text": [
      "Top 5 Results:\n",
      "Document doc_37665: 14.465122043105842\n",
      "Content: Good news for Indian, bad news for Fake #FarmersProtest corrupt #DhruvRathee corrupt #BarkhaDutt corrupt @ndtv Antinational #Sikh #Khalistanis https://t.co/FUeSUyjII8\n",
      "Document doc_27629: 10.78785408682564\n",
      "Content: @newslaundry @NidhiSuresh_ #Toolkit had nothing to do with real farmers. It was for anti nationals, anto Modi, anti governmental people and pro #khalistanis to create riots in our country in the name of #FarmersProtest\n",
      "Document doc_5022: 9.643414695403894\n",
      "Content: No Rules No Worries , They Own The Banks Control Police  Control Elections, Control Supreme remember them jokers.  Abuse of power All Corruption Corruption. Sad Days In India. But Farmers will not be your Slaves 😡\n",
      "#ModiIgnoringFarmersDeaths \n",
      "#FarmersProtest https://t.co/8SIWAnu4D3\n",
      "Document doc_5856: 9.643414695403894\n",
      "Content: Corruption in the Voting System. Candidates will be scared to Run BJP, Electronic Corruption with Voting system. This is All Violation Lies of NO Trust. Modi Pack Your Bags You Are Creating Civil UnRest 😡\n",
      "#ModiIgnoringFarmersDeaths \n",
      "#KisanEktaMorcha #FarmersProtest https://t.co/OthSFdkBh7\n",
      "Document doc_14671: 9.643414695403894\n",
      "Content: #MSP_किसान_का_हक \n",
      "Corruption Corruption thats what this Government will be Remembered for #DPstopIntimidatingFarmers\n",
      "#FarmersProtest https://t.co/aTNdwitLS9\n"
     ]
    }
   ],
   "source": [
    "# Ranking results with TF-IDF\n",
    "scores_q4 = irk.tf_idf(inverted_index, query4, token_tweets)\n",
    "irk.sort_scores_tf_idf(scores_q4,docid_to_tweetid, tweets, 5)"
   ]
  },
  {
   "cell_type": "markdown",
   "metadata": {},
   "source": [
    "#### Query 5"
   ]
  },
  {
   "cell_type": "code",
   "execution_count": 30,
   "metadata": {},
   "outputs": [
    {
     "name": "stdout",
     "output_type": "stream",
     "text": [
      "Top 5 Results:\n",
      "Document doc_30305: 13.060837919626664\n",
      "Content: India doesn't give a shit about minorities. India doesn't give a shit about minorities. India doesn't give a shit about minorities. India doesn't give a shit about minorities. India doesn't give a shit about minorities. India doesn't give a shit about minorities. #FarmersProtest\n",
      "Document doc_26023: 10.884031599688885\n",
      "Content: mandeeptoronto: #FarmersMakeIndia\n",
      "\n",
      "Farmers are the Backbone of India\n",
      "Farmers are the Blood of India\n",
      "Farmers make the Food of India\n",
      "Farmers are the People of India\n",
      "Farmers are India\n",
      "\n",
      "#FarmersProtest https://t.co/Wx7GsuMPYr https://t.co/EnHIwtiLml\n",
      "Document doc_22942: 8.707225279751109\n",
      "Content: @ZeeNewsEnglish Sir, you are spoiling India's image. India is not BJP or Modiji. India is India because of our great democracy and constitution. By protecting the wrongdoings of govt &amp; spreading fake news &amp; propoganda you are spoiling our image 🇮🇳\n",
      "\n",
      "#FarmersProtest\n",
      "#GodiMedia\n",
      "Document doc_23630: 8.707225279751109\n",
      "Content: The whole #FarmersProtest is highlighting a divide that Sikhs and Punjabis cannot call India our home. How can we call India our own when the powers that be and the Indian media in India constantly make it known we aren't a part of india? (7)\n",
      "Document doc_23944: 8.707225279751109\n",
      "Content: The whole #FarmersProtest is highlighting a divide that Sikhs and Punjabis cannot call India our home. How can we call India our own when the powers that be and the Indian media in India constantly make it known we aren't a part of india? (7)\n"
     ]
    }
   ],
   "source": [
    "# Ranking results with TF-IDF\n",
    "scores_q5 = irk.tf_idf(inverted_index, query5, token_tweets)\n",
    "irk.sort_scores_tf_idf(scores_q5, docid_to_tweetid, tweets, 5)"
   ]
  }
 ],
 "metadata": {
  "kernelspec": {
   "display_name": ".venv",
   "language": "python",
   "name": "python3"
  },
  "language_info": {
   "codemirror_mode": {
    "name": "ipython",
    "version": 3
   },
   "file_extension": ".py",
   "mimetype": "text/x-python",
   "name": "python",
   "nbconvert_exporter": "python",
   "pygments_lexer": "ipython3",
   "version": "3.11.9"
  }
 },
 "nbformat": 4,
 "nbformat_minor": 2
}
