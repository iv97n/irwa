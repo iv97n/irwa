{
 "cells": [
  {
   "cell_type": "markdown",
   "metadata": {},
   "source": [
    "<p style=\"font-size:78px\">Final Project IRWA (2024-2025)</p>"
   ]
  },
  {
   "cell_type": "markdown",
   "metadata": {},
   "source": [
    "<p style=\"font-size:48px\">Part 2: Indexing and Evaluation</p>"
   ]
  },
  {
   "cell_type": "code",
   "execution_count": 1,
   "metadata": {},
   "outputs": [],
   "source": [
    "# Standard library imports\n",
    "import os\n",
    "import sys\n",
    "\n",
    "# Third-party imports\n",
    "import pandas as pd\n",
    "import numpy as np\n",
    "from sklearn.metrics import average_precision_score\n",
    "\n",
    "# Local application imports\n",
    "current_dir = os.path.dirname(os.path.abspath(__file__)) if '__file__' in locals() else os.getcwd()\n",
    "project_root = os.path.join(current_dir, '..')\n",
    "if project_root not in sys.path:\n",
    "    sys.path.append(project_root)\n",
    "import irwa.loading as ild \n",
    "import irwa.preprocessing as ipp\n",
    "import irwa.indexing as ind\n",
    "import irwa.ranking as irk\n",
    "import irwa.evaluation as eva\n",
    "\n",
    "\n",
    "\n",
    "# The following lines allow for autoreload of modules. They allow changes in modules without the need to reload the kernel.\n",
    "%load_ext autoreload\n",
    "%autoreload 2"
   ]
  },
  {
   "cell_type": "markdown",
   "metadata": {},
   "source": [
    "# 0) Loading and Preprocessing"
   ]
  },
  {
   "cell_type": "code",
   "execution_count": 2,
   "metadata": {},
   "outputs": [
    {
     "name": "stdout",
     "output_type": "stream",
     "text": [
      "Loaded 117407 tweets\n",
      "Loaded 48429 documents with their corresponding tokenized tweet content\n"
     ]
    }
   ],
   "source": [
    "# Loading\n",
    "file_path = '../data/farmers-protest-tweets.json'\n",
    "tweets = ild.load_tweets_from_json(file_path)\n",
    "print(f\"Loaded {len(tweets)} tweets\")\n",
    "\n",
    "# Preprocessing\n",
    "tweet_document_ids_map_df = \"../data/tweet_document_ids_map.csv\"\n",
    "docid_to_tweetid, token_tweets = ipp.create_tokenized_dictionary(tweets, tweet_document_ids_map_df)\n",
    "print(f\"Loaded {len(token_tweets)} documents with their corresponding tokenized tweet content\")"
   ]
  },
  {
   "cell_type": "markdown",
   "metadata": {},
   "source": [
    "# 1) Indexing"
   ]
  },
  {
   "cell_type": "code",
   "execution_count": 3,
   "metadata": {},
   "outputs": [],
   "source": [
    "# Create inverted index\n",
    "inverted_index, tf, idf = ind.create_inverted_index_tf_idf(token_tweets)"
   ]
  },
  {
   "cell_type": "code",
   "execution_count": 4,
   "metadata": {},
   "outputs": [],
   "source": [
    "# Definition of test queries\n",
    "query1 = \"What is the indian protest?\"          \n",
    "query2 = \"Where to support the farmers?\"        \n",
    "query3 = \"Who are the Delhi farmers?\"          \n",
    "query4 = \"Is the government corrupt?\"       \n",
    "query5 = \"What is the president of India doing?\"    \n",
    "query6 = \"What do farmers fight for?\"     "
   ]
  },
  {
   "cell_type": "markdown",
   "metadata": {},
   "source": [
    "#### Query 1: What is the indian protest?"
   ]
  },
  {
   "cell_type": "code",
   "execution_count": 5,
   "metadata": {},
   "outputs": [
    {
     "name": "stdout",
     "output_type": "stream",
     "text": [
      "Top 5 Results:\n",
      "------------------------------------------------------------\n",
      "RESULT 1\n",
      "Document doc_34729: 5.031061026856039\n",
      "Content: Indian farmers' protests: Why they matter to British Indians\n",
      "#FarmersProtest  https://t.co/kyCWnDVyEm\n",
      "------------------------------------------------------------\n",
      "RESULT 2\n",
      "Document doc_19653: 4.865420574825832\n",
      "Content: @PunYaab Farmers are Indian ... Each n every person in protest is Indian first ... So think before tweets against protesters \n",
      "\n",
      "#farmersprotest\n",
      "------------------------------------------------------------\n",
      "RESULT 3\n",
      "Document doc_33904: 4.592709354323596\n",
      "Content: Indian farmers' protests: Why they matter to British Indians\n",
      "\n",
      "#FarmersStandingFirm #FarmersProtest #StandWithFarmers \n",
      "\n",
      "https://t.co/ywgPhLCvm9\n",
      "------------------------------------------------------------\n",
      "RESULT 4\n",
      "Document doc_9676: 4.485696129303427\n",
      "Content: This is why Indian Farmers are protesting #FarmersProtest https://t.co/9mzFBGQaXL\n",
      "------------------------------------------------------------\n",
      "RESULT 5\n",
      "Document doc_40582: 4.1078441268666905\n",
      "Content: Veterans of the Indian Army. Thrown into jail for peacefully protesting.  Total disrespect by the Indian authorities. \n",
      "\n",
      "#FarmersProtest https://t.co/omAVer86XW\n",
      "------------------------------------------------------------\n"
     ]
    }
   ],
   "source": [
    "# Ranking results with TF-IDF\n",
    "ranked_documents_1 = irk.rank_documents(ipp.build_terms(query1), token_tweets, inverted_index, tf, idf, filter=irk.conjunctive_filtering)\n",
    "irk.display_scores_tf_idf(ranked_documents_1, docid_to_tweetid, tweets, 5)\n"
   ]
  },
  {
   "cell_type": "markdown",
   "metadata": {},
   "source": [
    "#### Query 2: Where to support the farmers?"
   ]
  },
  {
   "cell_type": "code",
   "execution_count": 6,
   "metadata": {},
   "outputs": [
    {
     "name": "stdout",
     "output_type": "stream",
     "text": [
      "Top 5 Results:\n",
      "------------------------------------------------------------\n",
      "RESULT 1\n",
      "Document doc_43187: 3.0634840969604533\n",
      "Content: Support farmers support farmers support Twitter #FarmersProtest  #RepealOnlyWayAhead https://t.co/zfRr9uMx8k\n",
      "------------------------------------------------------------\n",
      "RESULT 2\n",
      "Document doc_38864: 3.022813088119693\n",
      "Content: support farmers support #FarmersProtest \n",
      "#शहीद_जवान_शहीद_किसा\n",
      "------------------------------------------------------------\n",
      "RESULT 3\n",
      "Document doc_31878: 3.022813088119693\n",
      "Content: Support farmers, support humanity #Farmersprotest\n",
      "------------------------------------------------------------\n",
      "RESULT 4\n",
      "Document doc_3699: 2.8275827299999996\n",
      "Content: Support farmers support truth \n",
      "#Pagdi_Sambhal_Jatta\n",
      "\n",
      "#FarmersProtest\n",
      "------------------------------------------------------------\n",
      "RESULT 5\n",
      "Document doc_47423: 2.8275827299999996\n",
      "Content: Support farmers\n",
      "#MahapanchayatRevolution\n",
      "#FarmersProtest\n",
      "Support https://t.co/b6Ipb8C1QS\n",
      "------------------------------------------------------------\n"
     ]
    }
   ],
   "source": [
    "# Ranking results with TF-IDF\n",
    "ranked_documents_2 = irk.rank_documents(ipp.build_terms(query2), token_tweets, inverted_index, tf, idf, filter=irk.conjunctive_filtering)\n",
    "irk.display_scores_tf_idf(ranked_documents_2, docid_to_tweetid, tweets, 5)\n"
   ]
  },
  {
   "cell_type": "markdown",
   "metadata": {},
   "source": [
    "#### Query 3: Who are the Delhi farmers?"
   ]
  },
  {
   "cell_type": "code",
   "execution_count": 7,
   "metadata": {},
   "outputs": [
    {
     "name": "stdout",
     "output_type": "stream",
     "text": [
      "Top 5 Results:\n",
      "------------------------------------------------------------\n",
      "RESULT 1\n",
      "Document doc_14534: 5.015985867835725\n",
      "Content: Farmers are in Delhi for their rights, Delhi Police consider them as your fellow countrymen. #DPstopIntimidatingFarmers \n",
      "#FarmersProtest https://t.co/9VqzgkG0Sr\n",
      "------------------------------------------------------------\n",
      "RESULT 2\n",
      "Document doc_29928: 5.006789617141349\n",
      "Content: Today, the 82nd day of the 'Delhi Chalo' demonstrations at New Delhi boundary areas. A sit-in protest along the Delhi border is being staged by thousands of farmers, \n",
      "\n",
      "#FarmersProtest  #DelhiChalo  #ProtestTopStories\n",
      "\n",
      "https://t.co/O67STnJJ0M\n",
      "------------------------------------------------------------\n",
      "RESULT 3\n",
      "Document doc_30534: 4.669628714307381\n",
      "Content: Sadly he could not see the lakhs of farmers protesting outside Delhi when he was flying out of Delhi .\n",
      "\n",
      "#IamAgainstModiGovt \n",
      "#FarmersProtest https://t.co/UDuCBv5aMg\n",
      "------------------------------------------------------------\n",
      "RESULT 4\n",
      "Document doc_29107: 4.669628714307381\n",
      "Content: Sadly he could not see the lakhs of farmers protesting outside Delhi when he was flying out of Delhi .\n",
      "\n",
      "#IamAgainstModiGovt \n",
      "#FarmersProtest https://t.co/JHrtbfYjOg\n",
      "------------------------------------------------------------\n",
      "RESULT 5\n",
      "Document doc_38281: 4.669628714307381\n",
      "Content: I blame the Delhi fog. Otherwise he would have seen protesting farmers when he flew out of Delhi this morning. #FarmersProtest https://t.co/DFMS52Ne0R\n",
      "------------------------------------------------------------\n"
     ]
    }
   ],
   "source": [
    "# Ranking results with TF-IDF\n",
    "ranked_documents_3 = irk.rank_documents(ipp.build_terms(query3), token_tweets, inverted_index, tf, idf, filter=irk.conjunctive_filtering)\n",
    "irk.display_scores_tf_idf(ranked_documents_3, docid_to_tweetid, tweets, 5)"
   ]
  },
  {
   "cell_type": "markdown",
   "metadata": {},
   "source": [
    "#### Query 4: Is the government corrupt?"
   ]
  },
  {
   "cell_type": "code",
   "execution_count": 28,
   "metadata": {},
   "outputs": [
    {
     "name": "stdout",
     "output_type": "stream",
     "text": [
      "Top 5 Results:\n",
      "------------------------------------------------------------\n",
      "RESULT 1\n",
      "Document doc_14701: 12.3693229312849\n",
      "Content: Corruption Corruption thats what this Government will be Remembered for #DPstopIntimidatingFarmers\n",
      "#FarmersProtest https://t.co/7QsxGwbWmr\n",
      "------------------------------------------------------------\n",
      "RESULT 2\n",
      "Document doc_14671: 11.793686669277783\n",
      "Content: #MSP_किसान_का_हक \n",
      "Corruption Corruption thats what this Government will be Remembered for #DPstopIntimidatingFarmers\n",
      "#FarmersProtest https://t.co/aTNdwitLS9\n",
      "------------------------------------------------------------\n",
      "RESULT 3\n",
      "Document doc_14680: 10.848613870281753\n",
      "Content: Corruption Corruption thats what this Government will be Remembered for #DPstopIntimidatingFarmers\n",
      "#FarmersProtest https://t.co/Oxe9SDB01w\n",
      "#DPstopIntimidatingFarmers\n",
      "------------------------------------------------------------\n",
      "RESULT 4\n",
      "Document doc_37261: 7.558618628101222\n",
      "Content: @rihanna Shame on India fake media and corrupt government #FarmersProtest #BidenAdministration\n",
      "------------------------------------------------------------\n",
      "RESULT 5\n",
      "Document doc_1441: 7.170735248813118\n",
      "Content: You just need to comprehend what this corrupt lying bjp government of ours is doing\n",
      "\n",
      "#FarmersProtest \n",
      "#Pagdi_Sambhal_Jatta https://t.co/OO1EJ17tua https://t.co/H79R36qTAo\n",
      "------------------------------------------------------------\n"
     ]
    }
   ],
   "source": [
    "# Ranking results with TF-IDF\n",
    "ranked_documents_4 = irk.rank_documents(ipp.build_terms(query4), token_tweets, inverted_index, tf, idf, filter=irk.conjunctive_filtering)\n",
    "irk.display_scores_tf_idf(ranked_documents_4, docid_to_tweetid, tweets, 5)\n"
   ]
  },
  {
   "cell_type": "markdown",
   "metadata": {},
   "source": [
    "#### Query 5: What is the president of India doing?"
   ]
  },
  {
   "cell_type": "code",
   "execution_count": 9,
   "metadata": {},
   "outputs": [
    {
     "name": "stdout",
     "output_type": "stream",
     "text": [
      "Top 5 Results:\n",
      "------------------------------------------------------------\n",
      "RESULT 1\n",
      "Document doc_30908: 10.984752777013997\n",
      "Content: US Lawyers write to President #Biden on #Farmers' Protests:\n",
      "'Your administration comes to office at a time when minority communities across India are in peril,' notes the letter, urging the US President to act.\n",
      "#FarmersProtest https://t.co/wlQVau3nkw\n",
      "------------------------------------------------------------\n",
      "RESULT 2\n",
      "Document doc_31745: 10.246074012813938\n",
      "Content: it's president's day. \n",
      "\n",
      "@joebiden any thoughts about what's been happening in india?? #farmersprotest #nofarmersnofood\n",
      "------------------------------------------------------------\n",
      "RESULT 3\n",
      "Document doc_22798: 8.873360384152438\n",
      "Content: @POTUS @JoeBiden Mr. President please support Indian farmers #FarmersProtest democracy killed in India..\n",
      "------------------------------------------------------------\n",
      "RESULT 4\n",
      "Document doc_21433: 7.051831766825405\n",
      "Content: @KanganaTeam Who are you to comment on him or say anything to Americans ???? I did not know that America or their President was part of India ????? Weren't you deshbhakats giving the gyan to foreigners not to speak on Indian matters such as #FarmersProtest\n",
      "------------------------------------------------------------\n",
      "RESULT 5\n",
      "Document doc_27740: 7.051831766825405\n",
      "Content: I request US President @JoeBiden to protect @dhruv_rathee from Dangerous Supreme leaders of India; @AmitShah and @PMOIndia. Because he is raising his voice for human rights and democracy. #FarmersProtest #AskDhruvRathee\n",
      "------------------------------------------------------------\n"
     ]
    }
   ],
   "source": [
    "# Ranking results with TF-IDF\n",
    "ranked_documents_5 = irk.rank_documents(ipp.build_terms(query5), token_tweets, inverted_index, tf, idf, filter=irk.conjunctive_filtering)\n",
    "irk.display_scores_tf_idf(ranked_documents_5, docid_to_tweetid, tweets, 5)"
   ]
  },
  {
   "cell_type": "markdown",
   "metadata": {},
   "source": [
    "# Evaluation"
   ]
  },
  {
   "cell_type": "code",
   "execution_count": 10,
   "metadata": {},
   "outputs": [],
   "source": [
    "query_to_ev_1 = \"People's rights\"\n",
    "query_to_ev_2 = \"Indian Government\"\n",
    "\n",
    "queryid2text = {\n",
    "    1: query_to_ev_1,\n",
    "    2: query_to_ev_2\n",
    "}"
   ]
  },
  {
   "cell_type": "markdown",
   "metadata": {},
   "source": [
    "## Given queries"
   ]
  },
  {
   "cell_type": "code",
   "execution_count": 11,
   "metadata": {},
   "outputs": [],
   "source": [
    "scores_evq1 = irk.rank_documents(ipp.build_terms(query_to_ev_1), token_tweets, inverted_index, tf, idf, filter=irk.conjunctive_filtering)\n",
    "scores_evq2 = irk.rank_documents(ipp.build_terms(query_to_ev_2), token_tweets, inverted_index, tf, idf, filter=irk.conjunctive_filtering)"
   ]
  },
  {
   "cell_type": "code",
   "execution_count": 83,
   "metadata": {},
   "outputs": [],
   "source": [
    "# Convert the lists to DataFrames\n",
    "df_query_1 = pd.DataFrame(scores_evq1, columns=['doc_id', 'score'])\n",
    "df_query_2 = pd.DataFrame(scores_evq2, columns=['doc_id', 'score'])\n",
    "\n",
    "# Add a column for query_id\n",
    "df_query_1['query_id'] = 1\n",
    "df_query_2['query_id'] = 2\n",
    "\n",
    "# Concatenate the two DataFrames\n",
    "search_results = pd.concat([df_query_1, df_query_2], ignore_index=True)\n",
    "search_results = search_results[[\"query_id\", \"doc_id\", \"score\"]] #reorder cols\n",
    "\n",
    "evaluation = pd.read_csv(\"../data/evaluation_gt.csv\", delimiter=\";\")\n",
    "results = pd.merge(evaluation, search_results, how='left', left_on=['docId', 'query_id'], right_on=['doc_id', 'query_id'])\n",
    "results.drop(columns=['doc_id'], inplace=True)\n",
    "# Fill Nan with 0 as it means that is has not found any relevant score for such query\n",
    "results.fillna(0, inplace=True)\n",
    "\n",
    "#Rename columns for better usage\n",
    "results.columns = [\"doc_id\", \"query_id\", \"is_relevant\", \"predicted_relevance\"]\n",
    "results = results[[\"query_id\", \"doc_id\", \"is_relevant\", \"predicted_relevance\"]]"
   ]
  },
  {
   "cell_type": "code",
   "execution_count": 84,
   "metadata": {},
   "outputs": [
    {
     "name": "stdout",
     "output_type": "stream",
     "text": [
      "1\n",
      "-------------------------------------------------------------------------------------------\n",
      "Out of 30 documents, 15 are found relevant for query 'People's rights'\n",
      "-------------------------------------------------------------------------------------------\n",
      "2\n",
      "-------------------------------------------------------------------------------------------\n",
      "Out of 30 documents, 15 are found relevant for query 'Indian Government'\n",
      "-------------------------------------------------------------------------------------------\n"
     ]
    }
   ],
   "source": [
    "for query in results['query_id'].unique():\n",
    "    print(query)\n",
    "    # Count relevant documents for the current query\n",
    "    relevant_count = results[results['query_id'] == query]['is_relevant'].sum()\n",
    "    \n",
    "    print(\"-------------------------------------------------------------------------------------------\")\n",
    "    print(f\"Out of {len(results[results['query_id'] == query])} documents, {relevant_count} are found relevant for query '{queryid2text.get(query, 'Unknown query')}'\")\n",
    "    print(\"-------------------------------------------------------------------------------------------\")"
   ]
  },
  {
   "cell_type": "markdown",
   "metadata": {},
   "source": [
    "### Precision@K (P@K)"
   ]
  },
  {
   "cell_type": "code",
   "execution_count": 85,
   "metadata": {},
   "outputs": [
    {
     "name": "stderr",
     "output_type": "stream",
     "text": [
      "C:\\Users\\Usuari\\AppData\\Local\\Temp\\ipykernel_7988\\2359606978.py:2: UserWarning: Boolean Series key will be reindexed to match DataFrame index.\n",
      "  current_query_res = results[search_results[\"query_id\"] == 1]\n"
     ]
    }
   ],
   "source": [
    "# Assign the current query\n",
    "current_query_res = results[search_results[\"query_id\"] == 1]"
   ]
  },
  {
   "cell_type": "code",
   "execution_count": 86,
   "metadata": {},
   "outputs": [
    {
     "name": "stdout",
     "output_type": "stream",
     "text": [
      "==> Precision@10: 0.8\n",
      "\n",
      "==> Precision@20: 0.9\n",
      "\n"
     ]
    }
   ],
   "source": [
    "pre_k10, rec_k10 = eva.precision_at_k(current_query_res[\"is_relevant\"], current_query_res[\"predicted_relevance\"], 10)\n",
    "pre_k20, rec_k20 = eva.precision_at_k(current_query_res[\"is_relevant\"], current_query_res[\"predicted_relevance\"], 20)\n",
    "\n",
    "\n",
    "print(\"==> Precision@{}: {}\\n\".format(10, pre_k10))\n",
    "print(\"==> Precision@{}: {}\\n\".format(20, pre_k20))"
   ]
  },
  {
   "cell_type": "markdown",
   "metadata": {},
   "source": [
    "### Recall@K (R@k) "
   ]
  },
  {
   "cell_type": "code",
   "execution_count": 87,
   "metadata": {},
   "outputs": [
    {
     "name": "stdout",
     "output_type": "stream",
     "text": [
      "==> Recall@10: 1.0\n",
      "\n",
      "==> Recall@20: 1.0\n",
      "\n"
     ]
    }
   ],
   "source": [
    "print(\"==> Recall@{}: {}\\n\".format(10, rec_k10))\n",
    "print(\"==> Recall@{}: {}\\n\".format(20, rec_k20))"
   ]
  },
  {
   "cell_type": "markdown",
   "metadata": {},
   "source": [
    "### Avgerage Precision@K (P@K)"
   ]
  },
  {
   "cell_type": "code",
   "execution_count": 88,
   "metadata": {},
   "outputs": [
    {
     "data": {
      "text/plain": [
       "np.float64(0.9315667238744164)"
      ]
     },
     "execution_count": 88,
     "metadata": {},
     "output_type": "execute_result"
    }
   ],
   "source": [
    "eva.avg_precision_at_k(np.array(current_query_res[\"is_relevant\"]), np.array(current_query_res[\"predicted_relevance\"]), 15)"
   ]
  },
  {
   "cell_type": "code",
   "execution_count": 89,
   "metadata": {},
   "outputs": [
    {
     "data": {
      "text/plain": [
       "np.float64(0.9315667238744159)"
      ]
     },
     "execution_count": 89,
     "metadata": {},
     "output_type": "execute_result"
    }
   ],
   "source": [
    "k = 15\n",
    "temp = current_query_res.sort_values(\"predicted_relevance\", ascending=False).head(k)\n",
    "average_precision_score(np.array(temp[\"is_relevant\"]), np.array(temp[\"predicted_relevance\"][:k]))"
   ]
  },
  {
   "cell_type": "markdown",
   "metadata": {},
   "source": [
    "### F1-Score@K"
   ]
  },
  {
   "cell_type": "code",
   "execution_count": 90,
   "metadata": {},
   "outputs": [
    {
     "name": "stdout",
     "output_type": "stream",
     "text": [
      "F-1 Score for k = 20 is: 0.9473684210526316\n",
      "F-1 Score for k = 10 is: 0.888888888888889\n"
     ]
    }
   ],
   "source": [
    "print(f\"F-1 Score for k = 20 is: {eva.f1_score(pre_k20, rec_k20)}\")\n",
    "print(f\"F-1 Score for k = 10 is: {eva.f1_score(pre_k10, rec_k10)}\")\n"
   ]
  },
  {
   "cell_type": "markdown",
   "metadata": {},
   "source": [
    "### Mean Average Precision (MAP)"
   ]
  },
  {
   "cell_type": "code",
   "execution_count": 91,
   "metadata": {},
   "outputs": [
    {
     "data": {
      "text/plain": [
       "np.float64(0.9255208466746929)"
      ]
     },
     "execution_count": 91,
     "metadata": {},
     "output_type": "execute_result"
    }
   ],
   "source": [
    "map_k, avp = eva.map_at_k(results, 15)\n",
    "map_k"
   ]
  },
  {
   "cell_type": "markdown",
   "metadata": {},
   "source": [
    "### Mean Reciprocal Rank (MRR)"
   ]
  },
  {
   "cell_type": "code",
   "execution_count": 92,
   "metadata": {},
   "outputs": [
    {
     "data": {
      "text/plain": [
       "np.float64(1.0)"
      ]
     },
     "execution_count": 92,
     "metadata": {},
     "output_type": "execute_result"
    }
   ],
   "source": [
    "labels = np.array(results[results['query_id'] == 1][\"is_relevant\"])\n",
    "scores = np.array(results[results['query_id'] == 1][\"predicted_relevance\"])\n",
    "np.round(eva.rr_at_k(labels, scores, 10), 4)"
   ]
  },
  {
   "cell_type": "markdown",
   "metadata": {},
   "source": [
    "### Normalized Discounted Cumulative Gain (NDCG)"
   ]
  },
  {
   "cell_type": "code",
   "execution_count": 93,
   "metadata": {},
   "outputs": [
    {
     "name": "stdout",
     "output_type": "stream",
     "text": [
      "ndcg@10 for query with query_id=1: 0.8268\n"
     ]
    }
   ],
   "source": [
    "k = 10\n",
    "ndcg_k = np.round(eva.ndcg_at_k(labels, scores, k), 4)\n",
    "print(\"ndcg@{} for query with query_id={}: {}\".format(k, 1, ndcg_k))"
   ]
  },
  {
   "cell_type": "code",
   "execution_count": 94,
   "metadata": {},
   "outputs": [
    {
     "name": "stdout",
     "output_type": "stream",
     "text": [
      "ndcg@10 for query with query_id=2: 1.0\n"
     ]
    }
   ],
   "source": [
    "labels = np.array(results[results['query_id'] == 2][\"is_relevant\"])\n",
    "scores = np.array(results[results['query_id'] == 2][\"predicted_relevance\"])\n",
    "ndcg_k = np.round(eva.ndcg_at_k(labels, scores, k), 4)\n",
    "print(\"ndcg@{} for query with query_id={}: {}\".format(k, 2, ndcg_k))"
   ]
  },
  {
   "cell_type": "markdown",
   "metadata": {},
   "source": [
    "# Own queries"
   ]
  },
  {
   "cell_type": "markdown",
   "metadata": {},
   "source": [
    "## Defining Scores"
   ]
  },
  {
   "cell_type": "code",
   "execution_count": 95,
   "metadata": {},
   "outputs": [],
   "source": [
    "# Convert the lists to DataFrames\n",
    "df_q1 = pd.DataFrame(ranked_documents_1, columns=['doc_id', 'score'])\n",
    "df_q2 = pd.DataFrame(ranked_documents_2, columns=['doc_id', 'score'])\n",
    "df_q3 = pd.DataFrame(ranked_documents_3, columns=['doc_id', 'score'])\n",
    "df_q4 = pd.DataFrame(ranked_documents_4, columns=['doc_id', 'score'])\n",
    "df_q5 = pd.DataFrame(ranked_documents_5, columns=['doc_id', 'score'])\n",
    "\n",
    "\n",
    "# Add a column for query_id\n",
    "df_q1['query_id'] = 1\n",
    "df_q2['query_id'] = 2\n",
    "df_q3['query_id'] = 3\n",
    "df_q4['query_id'] = 4\n",
    "df_q5['query_id'] = 5\n",
    "\n",
    "# Concatenate the two DataFrames\n",
    "search_results = pd.concat([df_q1, df_q2, df_q3, df_q4, df_q5], ignore_index=True)\n",
    "search_results = search_results[[\"query_id\", \"doc_id\", \"score\"]] #reorder cols\n",
    "\n",
    "evaluation = pd.read_csv(\"../data/evaluation_gt_5queries.csv\", delimiter=\";\")\n",
    "results = pd.merge(evaluation, search_results, how='left', left_on=['docId', 'query_id'], right_on=['doc_id', 'query_id'])\n",
    "results.drop(columns=['doc_id'], inplace=True)\n",
    "# Fill Nan with 0 as it means that is has not found any relevant score for such query\n",
    "results.fillna(0, inplace=True)\n",
    "\n",
    "#Rename columns for better usage\n",
    "results.columns = [\"doc_id\", \"query_id\", \"is_relevant\", \"predicted_relevance\"]\n",
    "results = results[[\"query_id\", \"doc_id\", \"is_relevant\", \"predicted_relevance\"]]"
   ]
  },
  {
   "cell_type": "code",
   "execution_count": 96,
   "metadata": {},
   "outputs": [
    {
     "data": {
      "text/html": [
       "<div>\n",
       "<style scoped>\n",
       "    .dataframe tbody tr th:only-of-type {\n",
       "        vertical-align: middle;\n",
       "    }\n",
       "\n",
       "    .dataframe tbody tr th {\n",
       "        vertical-align: top;\n",
       "    }\n",
       "\n",
       "    .dataframe thead th {\n",
       "        text-align: right;\n",
       "    }\n",
       "</style>\n",
       "<table border=\"1\" class=\"dataframe\">\n",
       "  <thead>\n",
       "    <tr style=\"text-align: right;\">\n",
       "      <th></th>\n",
       "      <th>query_id</th>\n",
       "      <th>doc_id</th>\n",
       "      <th>score</th>\n",
       "    </tr>\n",
       "  </thead>\n",
       "  <tbody>\n",
       "    <tr>\n",
       "      <th>0</th>\n",
       "      <td>1</td>\n",
       "      <td>doc_34729</td>\n",
       "      <td>5.031061</td>\n",
       "    </tr>\n",
       "    <tr>\n",
       "      <th>1</th>\n",
       "      <td>1</td>\n",
       "      <td>doc_19653</td>\n",
       "      <td>4.865421</td>\n",
       "    </tr>\n",
       "    <tr>\n",
       "      <th>2</th>\n",
       "      <td>1</td>\n",
       "      <td>doc_33904</td>\n",
       "      <td>4.592709</td>\n",
       "    </tr>\n",
       "    <tr>\n",
       "      <th>3</th>\n",
       "      <td>1</td>\n",
       "      <td>doc_9676</td>\n",
       "      <td>4.485696</td>\n",
       "    </tr>\n",
       "    <tr>\n",
       "      <th>4</th>\n",
       "      <td>1</td>\n",
       "      <td>doc_40582</td>\n",
       "      <td>4.107844</td>\n",
       "    </tr>\n",
       "  </tbody>\n",
       "</table>\n",
       "</div>"
      ],
      "text/plain": [
       "   query_id     doc_id     score\n",
       "0         1  doc_34729  5.031061\n",
       "1         1  doc_19653  4.865421\n",
       "2         1  doc_33904  4.592709\n",
       "3         1   doc_9676  4.485696\n",
       "4         1  doc_40582  4.107844"
      ]
     },
     "execution_count": 96,
     "metadata": {},
     "output_type": "execute_result"
    }
   ],
   "source": [
    "search_results.head()"
   ]
  },
  {
   "cell_type": "code",
   "execution_count": 97,
   "metadata": {},
   "outputs": [
    {
     "data": {
      "text/html": [
       "<div>\n",
       "<style scoped>\n",
       "    .dataframe tbody tr th:only-of-type {\n",
       "        vertical-align: middle;\n",
       "    }\n",
       "\n",
       "    .dataframe tbody tr th {\n",
       "        vertical-align: top;\n",
       "    }\n",
       "\n",
       "    .dataframe thead th {\n",
       "        text-align: right;\n",
       "    }\n",
       "</style>\n",
       "<table border=\"1\" class=\"dataframe\">\n",
       "  <thead>\n",
       "    <tr style=\"text-align: right;\">\n",
       "      <th></th>\n",
       "      <th>query_id</th>\n",
       "      <th>doc_id</th>\n",
       "      <th>is_relevant</th>\n",
       "      <th>predicted_relevance</th>\n",
       "    </tr>\n",
       "  </thead>\n",
       "  <tbody>\n",
       "    <tr>\n",
       "      <th>0</th>\n",
       "      <td>1</td>\n",
       "      <td>doc_34729</td>\n",
       "      <td>1</td>\n",
       "      <td>5.031061</td>\n",
       "    </tr>\n",
       "    <tr>\n",
       "      <th>1</th>\n",
       "      <td>1</td>\n",
       "      <td>doc_19653</td>\n",
       "      <td>0</td>\n",
       "      <td>4.865421</td>\n",
       "    </tr>\n",
       "    <tr>\n",
       "      <th>2</th>\n",
       "      <td>1</td>\n",
       "      <td>doc_33904</td>\n",
       "      <td>1</td>\n",
       "      <td>4.592709</td>\n",
       "    </tr>\n",
       "    <tr>\n",
       "      <th>3</th>\n",
       "      <td>1</td>\n",
       "      <td>doc_9676</td>\n",
       "      <td>1</td>\n",
       "      <td>4.485696</td>\n",
       "    </tr>\n",
       "    <tr>\n",
       "      <th>4</th>\n",
       "      <td>1</td>\n",
       "      <td>doc_40582</td>\n",
       "      <td>0</td>\n",
       "      <td>4.107844</td>\n",
       "    </tr>\n",
       "  </tbody>\n",
       "</table>\n",
       "</div>"
      ],
      "text/plain": [
       "   query_id     doc_id  is_relevant  predicted_relevance\n",
       "0         1  doc_34729            1             5.031061\n",
       "1         1  doc_19653            0             4.865421\n",
       "2         1  doc_33904            1             4.592709\n",
       "3         1   doc_9676            1             4.485696\n",
       "4         1  doc_40582            0             4.107844"
      ]
     },
     "execution_count": 97,
     "metadata": {},
     "output_type": "execute_result"
    }
   ],
   "source": [
    "results.head()"
   ]
  },
  {
   "cell_type": "code",
   "execution_count": 98,
   "metadata": {},
   "outputs": [],
   "source": [
    "current_query_res = results[results[\"query_id\"] == 2].reset_index(drop=True)"
   ]
  },
  {
   "cell_type": "markdown",
   "metadata": {},
   "source": [
    "### Precision@K (P@K)"
   ]
  },
  {
   "cell_type": "code",
   "execution_count": 99,
   "metadata": {},
   "outputs": [
    {
     "name": "stdout",
     "output_type": "stream",
     "text": [
      "==> Precision@10: 0.3\n",
      "\n",
      "==> Precision@20: 0.25\n",
      "\n"
     ]
    }
   ],
   "source": [
    "pre_k10, rec_k10 = eva.precision_at_k(current_query_res[\"is_relevant\"], current_query_res[\"predicted_relevance\"], 10)\n",
    "pre_k20, rec_k20 = eva.precision_at_k(current_query_res[\"is_relevant\"], current_query_res[\"predicted_relevance\"], 20)\n",
    "\n",
    "\n",
    "print(\"==> Precision@{}: {}\\n\".format(10, pre_k10))\n",
    "print(\"==> Precision@{}: {}\\n\".format(20, pre_k20))"
   ]
  },
  {
   "cell_type": "markdown",
   "metadata": {},
   "source": [
    "### Recall@K (R@K)"
   ]
  },
  {
   "cell_type": "code",
   "execution_count": 100,
   "metadata": {},
   "outputs": [
    {
     "name": "stdout",
     "output_type": "stream",
     "text": [
      "==> Recall@10: 1.0\n",
      "\n",
      "==> Recall@20: 1.0\n",
      "\n"
     ]
    }
   ],
   "source": [
    "print(\"==> Recall@{}: {}\\n\".format(10, rec_k10))\n",
    "print(\"==> Recall@{}: {}\\n\".format(20, rec_k20))"
   ]
  },
  {
   "cell_type": "markdown",
   "metadata": {},
   "source": [
    "### Average Precision@K (P@K)"
   ]
  },
  {
   "cell_type": "code",
   "execution_count": 101,
   "metadata": {},
   "outputs": [
    {
     "data": {
      "text/plain": [
       "np.float64(0.38690476190476186)"
      ]
     },
     "execution_count": 101,
     "metadata": {},
     "output_type": "execute_result"
    }
   ],
   "source": [
    "eva.avg_precision_at_k(np.array(current_query_res[\"is_relevant\"]), np.array(current_query_res[\"predicted_relevance\"]), 15)"
   ]
  },
  {
   "cell_type": "markdown",
   "metadata": {},
   "source": [
    "### F1-Score@K"
   ]
  },
  {
   "cell_type": "code",
   "execution_count": 102,
   "metadata": {},
   "outputs": [
    {
     "name": "stdout",
     "output_type": "stream",
     "text": [
      "F-1 Score for k = 20 is: 0.4\n",
      "F-1 Score for k = 10 is: 0.4615384615384615\n"
     ]
    }
   ],
   "source": [
    "print(f\"F-1 Score for k = 20 is: {eva.f1_score(pre_k20, rec_k20)}\")\n",
    "print(f\"F-1 Score for k = 10 is: {eva.f1_score(pre_k10, rec_k10)}\")"
   ]
  },
  {
   "cell_type": "markdown",
   "metadata": {},
   "source": [
    "### Mean Average Precision (MAP)"
   ]
  },
  {
   "cell_type": "code",
   "execution_count": 103,
   "metadata": {},
   "outputs": [
    {
     "data": {
      "text/plain": [
       "np.float64(0.541133095299762)"
      ]
     },
     "execution_count": 103,
     "metadata": {},
     "output_type": "execute_result"
    }
   ],
   "source": [
    "map_k, avp = eva.map_at_k(results, 15)\n",
    "map_k"
   ]
  },
  {
   "cell_type": "markdown",
   "metadata": {},
   "source": [
    "### Mean Reciprocal Rank (MRR)"
   ]
  },
  {
   "cell_type": "code",
   "execution_count": 104,
   "metadata": {},
   "outputs": [
    {
     "data": {
      "text/plain": [
       "np.float64(1.0)"
      ]
     },
     "execution_count": 104,
     "metadata": {},
     "output_type": "execute_result"
    }
   ],
   "source": [
    "labels = np.array(results[results['query_id'] == 1][\"is_relevant\"])\n",
    "scores = np.array(results[results['query_id'] == 1][\"predicted_relevance\"])\n",
    "np.round(eva.rr_at_k(labels, scores, 10), 4)"
   ]
  },
  {
   "cell_type": "markdown",
   "metadata": {},
   "source": [
    "### Normalized Discounted Cumulative Gain (NDCG)"
   ]
  },
  {
   "cell_type": "code",
   "execution_count": 105,
   "metadata": {},
   "outputs": [
    {
     "name": "stdout",
     "output_type": "stream",
     "text": [
      "ndcg@10 for query with query_id=1: 0.6364\n"
     ]
    }
   ],
   "source": [
    "k = 10\n",
    "ndcg_k = np.round(eva.ndcg_at_k(labels, scores, k), 4)\n",
    "print(\"ndcg@{} for query with query_id={}: {}\".format(k, 1, ndcg_k))"
   ]
  },
  {
   "cell_type": "markdown",
   "metadata": {},
   "source": [
    "## T-SNE"
   ]
  }
 ],
 "metadata": {
  "kernelspec": {
   "display_name": ".venv",
   "language": "python",
   "name": "python3"
  },
  "language_info": {
   "codemirror_mode": {
    "name": "ipython",
    "version": 3
   },
   "file_extension": ".py",
   "mimetype": "text/x-python",
   "name": "python",
   "nbconvert_exporter": "python",
   "pygments_lexer": "ipython3",
   "version": "3.11.3"
  }
 },
 "nbformat": 4,
 "nbformat_minor": 2
}
