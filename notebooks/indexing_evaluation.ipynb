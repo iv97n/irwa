{
 "cells": [
  {
   "cell_type": "markdown",
   "metadata": {},
   "source": [
    "<p style=\"font-size:78px\">Final Project IRWA (2024-2025)</p>"
   ]
  },
  {
   "cell_type": "markdown",
   "metadata": {},
   "source": [
    "<p style=\"font-size:48px\">Part 2: Indexing and Evaluation</p>"
   ]
  },
  {
   "cell_type": "code",
   "execution_count": 24,
   "metadata": {},
   "outputs": [
    {
     "name": "stderr",
     "output_type": "stream",
     "text": [
      "\n",
      "[notice] A new release of pip is available: 24.2 -> 24.3.1\n",
      "[notice] To update, run: python.exe -m pip install --upgrade pip\n"
     ]
    },
    {
     "name": "stdout",
     "output_type": "stream",
     "text": [
      "Collecting scikit-learn\n",
      "  Using cached scikit_learn-1.5.2-cp311-cp311-win_amd64.whl.metadata (13 kB)\n",
      "Requirement already satisfied: numpy>=1.19.5 in c:\\users\\josep\\documents\\archivos_uni\\uni-4o-mates\\irwa\\githubrepo\\irwa\\.venv\\lib\\site-packages (from scikit-learn) (2.0.2)\n",
      "Collecting scipy>=1.6.0 (from scikit-learn)\n",
      "  Using cached scipy-1.14.1-cp311-cp311-win_amd64.whl.metadata (60 kB)\n",
      "Requirement already satisfied: joblib>=1.2.0 in c:\\users\\josep\\documents\\archivos_uni\\uni-4o-mates\\irwa\\githubrepo\\irwa\\.venv\\lib\\site-packages (from scikit-learn) (1.4.2)\n",
      "Collecting threadpoolctl>=3.1.0 (from scikit-learn)\n",
      "  Using cached threadpoolctl-3.5.0-py3-none-any.whl.metadata (13 kB)\n",
      "Using cached scikit_learn-1.5.2-cp311-cp311-win_amd64.whl (11.0 MB)\n",
      "Using cached scipy-1.14.1-cp311-cp311-win_amd64.whl (44.8 MB)\n",
      "Using cached threadpoolctl-3.5.0-py3-none-any.whl (18 kB)\n",
      "Installing collected packages: threadpoolctl, scipy, scikit-learn\n",
      "Successfully installed scikit-learn-1.5.2 scipy-1.14.1 threadpoolctl-3.5.0\n",
      "Note: you may need to restart the kernel to use updated packages.\n",
      "The autoreload extension is already loaded. To reload it, use:\n",
      "  %reload_ext autoreload\n"
     ]
    }
   ],
   "source": [
    "# Standard library imports\n",
    "import os\n",
    "import sys\n",
    "\n",
    "# Third-party imports\n",
    "import pandas as pd\n",
    "import numpy as np\n",
    "\n",
    "# Local application imports\n",
    "current_dir = os.path.dirname(os.path.abspath(__file__)) if '__file__' in locals() else os.getcwd()\n",
    "project_root = os.path.join(current_dir, '..')\n",
    "if project_root not in sys.path:\n",
    "    sys.path.append(project_root)\n",
    "import irwa.loading as ild \n",
    "import irwa.preprocessing as ipp\n",
    "import irwa.indexing as ind\n",
    "import irwa.ranking as irk\n",
    "import irwa.evaluation as eva\n",
    "#%pip install scikit-learn\n",
    "from sklearn.metrics import average_precision_score\n",
    "\n",
    "# The following lines allow for autoreload of modules. They allow changes in modules without the need to reload the kernel.\n",
    "%load_ext autoreload\n",
    "%autoreload 2"
   ]
  },
  {
   "cell_type": "markdown",
   "metadata": {},
   "source": [
    "# 1) Indexing"
   ]
  },
  {
   "cell_type": "code",
   "execution_count": 2,
   "metadata": {},
   "outputs": [
    {
     "name": "stdout",
     "output_type": "stream",
     "text": [
      "Loaded 117407 tweets\n",
      "Loaded 48429 documents with their corresponding tokenized tweet content\n"
     ]
    }
   ],
   "source": [
    "# Loading\n",
    "file_path = '../data/farmers-protest-tweets.json'\n",
    "tweets = ild.load_tweets_from_json(file_path)\n",
    "print(f\"Loaded {len(tweets)} tweets\")\n",
    "\n",
    "# Preprocessing\n",
    "tweet_document_ids_map_df = \"../data/tweet_document_ids_map.csv\"\n",
    "docid_to_tweetid, token_tweets = ipp.create_tokenized_dictionary(tweets, tweet_document_ids_map_df)\n",
    "print(f\"Loaded {len(token_tweets)} documents with their corresponding tokenized tweet content\")"
   ]
  },
  {
   "cell_type": "code",
   "execution_count": 3,
   "metadata": {},
   "outputs": [],
   "source": [
    "inverted_index, tf, idf = ind.create_inverted_index_tf_idf(token_tweets)"
   ]
  },
  {
   "cell_type": "code",
   "execution_count": 4,
   "metadata": {},
   "outputs": [],
   "source": [
    "# Definition of test queries\n",
    "query1 = \"Indian protest\"           # What is the indian protest?\n",
    "query2 = \"support farmers\"          # Where to support the farmers?\n",
    "query3 = \"Delhi farmers\"            # Who are the Delhi farmers\n",
    "query4 = \"Government corrupt\"       # The Government is corrupt\n",
    "query5 = \"president India\"          # What is the president of India doing?"
   ]
  },
  {
   "cell_type": "markdown",
   "metadata": {},
   "source": [
    "#### Query 1"
   ]
  },
  {
   "cell_type": "code",
   "execution_count": 5,
   "metadata": {},
   "outputs": [
    {
     "name": "stdout",
     "output_type": "stream",
     "text": [
      "Top 5 Results:\n",
      "------------------------------------------------------------\n",
      "RESULT 1\n",
      "Document doc_34729: 5.031061026856039\n",
      "Content: Indian farmers' protests: Why they matter to British Indians\n",
      "#FarmersProtest  https://t.co/kyCWnDVyEm\n",
      "------------------------------------------------------------\n",
      "RESULT 2\n",
      "Document doc_19653: 4.865420574825832\n",
      "Content: @PunYaab Farmers are Indian ... Each n every person in protest is Indian first ... So think before tweets against protesters \n",
      "\n",
      "#farmersprotest\n",
      "------------------------------------------------------------\n",
      "RESULT 3\n",
      "Document doc_33904: 4.592709354323596\n",
      "Content: Indian farmers' protests: Why they matter to British Indians\n",
      "\n",
      "#FarmersStandingFirm #FarmersProtest #StandWithFarmers \n",
      "\n",
      "https://t.co/ywgPhLCvm9\n",
      "------------------------------------------------------------\n",
      "RESULT 4\n",
      "Document doc_9676: 4.485696129303427\n",
      "Content: This is why Indian Farmers are protesting #FarmersProtest https://t.co/9mzFBGQaXL\n",
      "------------------------------------------------------------\n",
      "RESULT 5\n",
      "Document doc_40582: 4.1078441268666905\n",
      "Content: Veterans of the Indian Army. Thrown into jail for peacefully protesting.  Total disrespect by the Indian authorities. \n",
      "\n",
      "#FarmersProtest https://t.co/omAVer86XW\n",
      "------------------------------------------------------------\n"
     ]
    }
   ],
   "source": [
    "# Ranking results with TF-IDF\n",
    "ranked_documents_1 = irk.rank_documents(ipp.build_terms(query1), token_tweets, inverted_index, tf, idf, filter=irk.conjunctive_filtering)\n",
    "irk.display_scores_tf_idf(ranked_documents_1, docid_to_tweetid, tweets, 5)\n"
   ]
  },
  {
   "cell_type": "markdown",
   "metadata": {},
   "source": [
    "#### Query 2"
   ]
  },
  {
   "cell_type": "code",
   "execution_count": 6,
   "metadata": {},
   "outputs": [
    {
     "name": "stdout",
     "output_type": "stream",
     "text": [
      "Top 5 Results:\n",
      "------------------------------------------------------------\n",
      "RESULT 1\n",
      "Document doc_43187: 3.0634840969604533\n",
      "Content: Support farmers support farmers support Twitter #FarmersProtest  #RepealOnlyWayAhead https://t.co/zfRr9uMx8k\n",
      "------------------------------------------------------------\n",
      "RESULT 2\n",
      "Document doc_38864: 3.022813088119693\n",
      "Content: support farmers support #FarmersProtest \n",
      "#शहीद_जवान_शहीद_किसा\n",
      "------------------------------------------------------------\n",
      "RESULT 3\n",
      "Document doc_31878: 3.022813088119693\n",
      "Content: Support farmers, support humanity #Farmersprotest\n",
      "------------------------------------------------------------\n",
      "RESULT 4\n",
      "Document doc_47396: 2.8275827299999996\n",
      "Content: Support farmers all\n",
      "#MahapanchayatRevolution\n",
      "#FarmersProtest\n",
      "Support https://t.co/2Ox6j6rSO5\n",
      "------------------------------------------------------------\n",
      "RESULT 5\n",
      "Document doc_47382: 2.8275827299999996\n",
      "Content: We Support farmers\n",
      "#MahapanchayatRevolution\n",
      "#FarmersProtest\n",
      "Support https://t.co/NO7xBeVg9f\n",
      "------------------------------------------------------------\n"
     ]
    }
   ],
   "source": [
    "# Ranking results with TF-IDF\n",
    "ranked_documents_2 = irk.rank_documents(ipp.build_terms(query2), token_tweets, inverted_index, tf, idf, filter=irk.conjunctive_filtering)\n",
    "irk.display_scores_tf_idf(ranked_documents_2, docid_to_tweetid, tweets, 5)\n"
   ]
  },
  {
   "cell_type": "markdown",
   "metadata": {},
   "source": [
    "#### Query 3"
   ]
  },
  {
   "cell_type": "code",
   "execution_count": 7,
   "metadata": {},
   "outputs": [
    {
     "name": "stdout",
     "output_type": "stream",
     "text": [
      "Top 5 Results:\n",
      "------------------------------------------------------------\n",
      "RESULT 1\n",
      "Document doc_14534: 5.015985867835725\n",
      "Content: Farmers are in Delhi for their rights, Delhi Police consider them as your fellow countrymen. #DPstopIntimidatingFarmers \n",
      "#FarmersProtest https://t.co/9VqzgkG0Sr\n",
      "------------------------------------------------------------\n",
      "RESULT 2\n",
      "Document doc_29928: 5.006789617141349\n",
      "Content: Today, the 82nd day of the 'Delhi Chalo' demonstrations at New Delhi boundary areas. A sit-in protest along the Delhi border is being staged by thousands of farmers, \n",
      "\n",
      "#FarmersProtest  #DelhiChalo  #ProtestTopStories\n",
      "\n",
      "https://t.co/O67STnJJ0M\n",
      "------------------------------------------------------------\n",
      "RESULT 3\n",
      "Document doc_29107: 4.669628714307381\n",
      "Content: Sadly he could not see the lakhs of farmers protesting outside Delhi when he was flying out of Delhi .\n",
      "\n",
      "#IamAgainstModiGovt \n",
      "#FarmersProtest https://t.co/JHrtbfYjOg\n",
      "------------------------------------------------------------\n",
      "RESULT 4\n",
      "Document doc_38281: 4.669628714307381\n",
      "Content: I blame the Delhi fog. Otherwise he would have seen protesting farmers when he flew out of Delhi this morning. #FarmersProtest https://t.co/DFMS52Ne0R\n",
      "------------------------------------------------------------\n",
      "RESULT 5\n",
      "Document doc_30534: 4.669628714307381\n",
      "Content: Sadly he could not see the lakhs of farmers protesting outside Delhi when he was flying out of Delhi .\n",
      "\n",
      "#IamAgainstModiGovt \n",
      "#FarmersProtest https://t.co/UDuCBv5aMg\n",
      "------------------------------------------------------------\n"
     ]
    }
   ],
   "source": [
    "# Ranking results with TF-IDF\n",
    "ranked_documents_3 = irk.rank_documents(ipp.build_terms(query3), token_tweets, inverted_index, tf, idf, filter=irk.conjunctive_filtering)\n",
    "irk.display_scores_tf_idf(ranked_documents_3, docid_to_tweetid, tweets, 5)"
   ]
  },
  {
   "cell_type": "markdown",
   "metadata": {},
   "source": [
    "#### Query 4"
   ]
  },
  {
   "cell_type": "code",
   "execution_count": 8,
   "metadata": {},
   "outputs": [
    {
     "name": "stdout",
     "output_type": "stream",
     "text": [
      "Top 5 Results:\n",
      "------------------------------------------------------------\n",
      "RESULT 1\n",
      "Document doc_14701: 12.3693229312849\n",
      "Content: Corruption Corruption thats what this Government will be Remembered for #DPstopIntimidatingFarmers\n",
      "#FarmersProtest https://t.co/7QsxGwbWmr\n",
      "------------------------------------------------------------\n",
      "RESULT 2\n",
      "Document doc_14671: 11.793686669277783\n",
      "Content: #MSP_किसान_का_हक \n",
      "Corruption Corruption thats what this Government will be Remembered for #DPstopIntimidatingFarmers\n",
      "#FarmersProtest https://t.co/aTNdwitLS9\n",
      "------------------------------------------------------------\n",
      "RESULT 3\n",
      "Document doc_14680: 10.848613870281753\n",
      "Content: Corruption Corruption thats what this Government will be Remembered for #DPstopIntimidatingFarmers\n",
      "#FarmersProtest https://t.co/Oxe9SDB01w\n",
      "#DPstopIntimidatingFarmers\n",
      "------------------------------------------------------------\n",
      "RESULT 4\n",
      "Document doc_37261: 7.558618628101222\n",
      "Content: @rihanna Shame on India fake media and corrupt government #FarmersProtest #BidenAdministration\n",
      "------------------------------------------------------------\n",
      "RESULT 5\n",
      "Document doc_1441: 7.170735248813118\n",
      "Content: You just need to comprehend what this corrupt lying bjp government of ours is doing\n",
      "\n",
      "#FarmersProtest \n",
      "#Pagdi_Sambhal_Jatta https://t.co/OO1EJ17tua https://t.co/H79R36qTAo\n",
      "------------------------------------------------------------\n"
     ]
    }
   ],
   "source": [
    "# Ranking results with TF-IDF\n",
    "ranked_documents_4 = irk.rank_documents(ipp.build_terms(query4), token_tweets, inverted_index, tf, idf, filter=irk.conjunctive_filtering)\n",
    "irk.display_scores_tf_idf(ranked_documents_4, docid_to_tweetid, tweets, 5)\n"
   ]
  },
  {
   "cell_type": "markdown",
   "metadata": {},
   "source": [
    "#### Query 5"
   ]
  },
  {
   "cell_type": "code",
   "execution_count": 9,
   "metadata": {},
   "outputs": [
    {
     "name": "stdout",
     "output_type": "stream",
     "text": [
      "Top 5 Results:\n",
      "------------------------------------------------------------\n",
      "RESULT 1\n",
      "Document doc_30908: 10.984752777013997\n",
      "Content: US Lawyers write to President #Biden on #Farmers' Protests:\n",
      "'Your administration comes to office at a time when minority communities across India are in peril,' notes the letter, urging the US President to act.\n",
      "#FarmersProtest https://t.co/wlQVau3nkw\n",
      "------------------------------------------------------------\n",
      "RESULT 2\n",
      "Document doc_31745: 10.246074012813938\n",
      "Content: it's president's day. \n",
      "\n",
      "@joebiden any thoughts about what's been happening in india?? #farmersprotest #nofarmersnofood\n",
      "------------------------------------------------------------\n",
      "RESULT 3\n",
      "Document doc_22798: 8.873360384152438\n",
      "Content: @POTUS @JoeBiden Mr. President please support Indian farmers #FarmersProtest democracy killed in India..\n",
      "------------------------------------------------------------\n",
      "RESULT 4\n",
      "Document doc_27740: 7.051831766825405\n",
      "Content: I request US President @JoeBiden to protect @dhruv_rathee from Dangerous Supreme leaders of India; @AmitShah and @PMOIndia. Because he is raising his voice for human rights and democracy. #FarmersProtest #AskDhruvRathee\n",
      "------------------------------------------------------------\n",
      "RESULT 5\n",
      "Document doc_21433: 7.051831766825405\n",
      "Content: @KanganaTeam Who are you to comment on him or say anything to Americans ???? I did not know that America or their President was part of India ????? Weren't you deshbhakats giving the gyan to foreigners not to speak on Indian matters such as #FarmersProtest\n",
      "------------------------------------------------------------\n"
     ]
    }
   ],
   "source": [
    "# Ranking results with TF-IDF\n",
    "ranked_documents_5 = irk.rank_documents(ipp.build_terms(query5), token_tweets, inverted_index, tf, idf, filter=irk.conjunctive_filtering)\n",
    "irk.display_scores_tf_idf(ranked_documents_5, docid_to_tweetid, tweets, 5)"
   ]
  },
  {
   "cell_type": "markdown",
   "metadata": {},
   "source": [
    "# Evaluation"
   ]
  },
  {
   "cell_type": "code",
   "execution_count": 10,
   "metadata": {},
   "outputs": [],
   "source": [
    "query_to_ev_1 = \"People's rights\"\n",
    "query_to_ev_2 = \"Indian Government\"\n",
    "\n",
    "queryid2text = {\n",
    "    1: query_to_ev_1,\n",
    "    2: query_to_ev_2\n",
    "}"
   ]
  },
  {
   "cell_type": "markdown",
   "metadata": {},
   "source": [
    "## Given queries"
   ]
  },
  {
   "cell_type": "code",
   "execution_count": 11,
   "metadata": {},
   "outputs": [],
   "source": [
    "scores_evq1 = irk.rank_documents(ipp.build_terms(query_to_ev_1), token_tweets, inverted_index, tf, idf, filter=irk.conjunctive_filtering)\n",
    "scores_evq2 = irk.rank_documents(ipp.build_terms(query_to_ev_2), token_tweets, inverted_index, tf, idf, filter=irk.conjunctive_filtering)"
   ]
  },
  {
   "cell_type": "code",
   "execution_count": 12,
   "metadata": {},
   "outputs": [],
   "source": [
    "# Convert the lists to DataFrames\n",
    "df_query_1 = pd.DataFrame(scores_evq1, columns=['doc_id', 'score'])\n",
    "df_query_2 = pd.DataFrame(scores_evq2, columns=['doc_id', 'score'])\n",
    "\n",
    "# Add a column for query_id\n",
    "df_query_1['query_id'] = 1\n",
    "df_query_2['query_id'] = 2\n",
    "\n",
    "# Concatenate the two DataFrames\n",
    "search_results = pd.concat([df_query_1, df_query_2], ignore_index=True)\n",
    "search_results = search_results[[\"query_id\", \"doc_id\", \"score\"]] #reorder cols\n",
    "\n",
    "evaluation = pd.read_csv(\"../data/evaluation_gt.csv\", delimiter=\";\")\n",
    "results = pd.merge(evaluation, search_results, how='left', left_on=['docId', 'query_id'], right_on=['doc_id', 'query_id'])\n",
    "results.drop(columns=['doc_id'], inplace=True)\n",
    "# Fill Nan with 0 as it means that is has not found any relevant score for such query\n",
    "results.fillna(0, inplace=True)\n",
    "\n",
    "#Rename columns for better usage\n",
    "results.columns = [\"doc_id\", \"query_id\", \"is_relevant\", \"predicted_relevance\"]\n",
    "results = results[[\"query_id\", \"doc_id\", \"is_relevant\", \"predicted_relevance\"]]"
   ]
  },
  {
   "cell_type": "code",
   "execution_count": 13,
   "metadata": {},
   "outputs": [
    {
     "name": "stdout",
     "output_type": "stream",
     "text": [
      "1\n",
      "-------------------------------------------------------------------------------------------\n",
      "Out of 30 documents, 15 are found relevant for query 'People's rights'\n",
      "-------------------------------------------------------------------------------------------\n",
      "2\n",
      "-------------------------------------------------------------------------------------------\n",
      "Out of 30 documents, 15 are found relevant for query 'Indian Government'\n",
      "-------------------------------------------------------------------------------------------\n"
     ]
    }
   ],
   "source": [
    "for query in results['query_id'].unique():\n",
    "    print(query)\n",
    "    # Count relevant documents for the current query\n",
    "    relevant_count = results[results['query_id'] == query]['is_relevant'].sum()\n",
    "    \n",
    "    print(\"-------------------------------------------------------------------------------------------\")\n",
    "    print(f\"Out of {len(results[results['query_id'] == query])} documents, {relevant_count} are found relevant for query '{queryid2text.get(query, 'Unknown query')}'\")\n",
    "    print(\"-------------------------------------------------------------------------------------------\")"
   ]
  },
  {
   "cell_type": "markdown",
   "metadata": {},
   "source": [
    "### Precision@K (P@K)"
   ]
  },
  {
   "cell_type": "code",
   "execution_count": 14,
   "metadata": {},
   "outputs": [
    {
     "name": "stderr",
     "output_type": "stream",
     "text": [
      "C:\\Users\\josep\\AppData\\Local\\Temp\\ipykernel_4368\\2359606978.py:2: UserWarning: Boolean Series key will be reindexed to match DataFrame index.\n",
      "  current_query_res = results[search_results[\"query_id\"] == 1]\n"
     ]
    }
   ],
   "source": [
    "# Assign the current query\n",
    "current_query_res = results[search_results[\"query_id\"] == 1]"
   ]
  },
  {
   "cell_type": "code",
   "execution_count": 18,
   "metadata": {},
   "outputs": [
    {
     "name": "stdout",
     "output_type": "stream",
     "text": [
      "==> Precision@25: 0.92\n",
      "\n",
      "==> Precision@20: 0.9\n",
      "\n"
     ]
    }
   ],
   "source": [
    "pre_k25, rec_k25 = eva.precision_at_k(current_query_res[\"is_relevant\"], current_query_res[\"predicted_relevance\"], 25)\n",
    "pre_k20, rec_k20 = eva.precision_at_k(current_query_res[\"is_relevant\"], current_query_res[\"predicted_relevance\"], 20)\n",
    "\n",
    "\n",
    "print(\"==> Precision@{}: {}\\n\".format(25, pre_k25))\n",
    "print(\"==> Precision@{}: {}\\n\".format(20, pre_k20))"
   ]
  },
  {
   "cell_type": "markdown",
   "metadata": {},
   "source": [
    "### Recall@K (R@k) "
   ]
  },
  {
   "cell_type": "code",
   "execution_count": 16,
   "metadata": {},
   "outputs": [
    {
     "name": "stdout",
     "output_type": "stream",
     "text": [
      "==> Recall@25: 1.0\n",
      "\n",
      "==> Recall@20: 1.0\n",
      "\n"
     ]
    }
   ],
   "source": [
    "print(\"==> Recall@{}: {}\\n\".format(25, rec_k25))\n",
    "print(\"==> Recall@{}: {}\\n\".format(20, rec_k20))"
   ]
  },
  {
   "cell_type": "markdown",
   "metadata": {},
   "source": [
    "### Avgerage Precision@K (P@K)"
   ]
  },
  {
   "cell_type": "code",
   "execution_count": 19,
   "metadata": {},
   "outputs": [
    {
     "data": {
      "text/plain": [
       "np.float64(0.918039523535582)"
      ]
     },
     "execution_count": 19,
     "metadata": {},
     "output_type": "execute_result"
    }
   ],
   "source": [
    "eva.avg_precision_at_k(np.array(current_query_res[\"is_relevant\"]), np.array(current_query_res[\"predicted_relevance\"]), 25)"
   ]
  },
  {
   "cell_type": "code",
   "execution_count": 25,
   "metadata": {},
   "outputs": [
    {
     "data": {
      "text/plain": [
       "np.float64(0.918468622711484)"
      ]
     },
     "execution_count": 25,
     "metadata": {},
     "output_type": "execute_result"
    }
   ],
   "source": [
    "k = 25\n",
    "temp = current_query_res.sort_values(\"predicted_relevance\", ascending=False).head(k)\n",
    "average_precision_score(np.array(temp[\"is_relevant\"]), np.array(temp[\"predicted_relevance\"][:k]))"
   ]
  },
  {
   "cell_type": "markdown",
   "metadata": {},
   "source": [
    "### F1-Score@K"
   ]
  },
  {
   "cell_type": "code",
   "execution_count": 26,
   "metadata": {},
   "outputs": [
    {
     "name": "stdout",
     "output_type": "stream",
     "text": [
      "F-1 Score for k = 20 is: 0.9473684210526316\n",
      "F-1 Score for k = 25 is: 0.9583333333333334\n"
     ]
    }
   ],
   "source": [
    "print(f\"F-1 Score for k = 20 is: {eva.f1_score(pre_k20, rec_k20)}\")\n",
    "print(f\"F-1 Score for k = 25 is: {eva.f1_score(pre_k25, rec_k25)}\")\n"
   ]
  },
  {
   "cell_type": "markdown",
   "metadata": {},
   "source": [
    "### Mean Average Precision (MAP)"
   ]
  },
  {
   "cell_type": "code",
   "execution_count": 27,
   "metadata": {},
   "outputs": [
    {
     "data": {
      "text/plain": [
       "np.float64(0.9263765004836434)"
      ]
     },
     "execution_count": 27,
     "metadata": {},
     "output_type": "execute_result"
    }
   ],
   "source": [
    "map_k, avp = eva.map_at_k(results, 25)\n",
    "map_k"
   ]
  },
  {
   "cell_type": "markdown",
   "metadata": {},
   "source": [
    "### Mean Reciprocal Rank (MRR)"
   ]
  },
  {
   "cell_type": "code",
   "execution_count": 28,
   "metadata": {},
   "outputs": [
    {
     "data": {
      "text/plain": [
       "np.float64(1.0)"
      ]
     },
     "execution_count": 28,
     "metadata": {},
     "output_type": "execute_result"
    }
   ],
   "source": [
    "k = 5\n",
    "labels = np.array(results[results['query_id'] == 1][\"is_relevant\"])\n",
    "scores = np.array(results[results['query_id'] == 1][\"predicted_relevance\"])\n",
    "np.round(eva.rr_at_k(labels, scores, 13), 4)"
   ]
  },
  {
   "cell_type": "markdown",
   "metadata": {},
   "source": [
    "### Normalized Discounted Cumulative Gain (NDCG)"
   ]
  },
  {
   "cell_type": "code",
   "execution_count": 29,
   "metadata": {},
   "outputs": [
    {
     "name": "stdout",
     "output_type": "stream",
     "text": [
      "ndcg@5 for query with query_id=1: 0.8539\n"
     ]
    }
   ],
   "source": [
    "ndcg_k = np.round(eva.ndcg_at_k(labels, scores, k), 4)\n",
    "print(\"ndcg@{} for query with query_id={}: {}\".format(k, 1, ndcg_k))"
   ]
  },
  {
   "cell_type": "code",
   "execution_count": 30,
   "metadata": {},
   "outputs": [
    {
     "name": "stdout",
     "output_type": "stream",
     "text": [
      "ndcg@5 for query with query_id=2: 1.0\n"
     ]
    }
   ],
   "source": [
    "labels = np.array(results[results['query_id'] == 2][\"is_relevant\"])\n",
    "scores = np.array(results[results['query_id'] == 2][\"predicted_relevance\"])\n",
    "ndcg_k = np.round(eva.ndcg_at_k(labels, scores, k), 4)\n",
    "print(\"ndcg@{} for query with query_id={}: {}\".format(k, 2, ndcg_k))"
   ]
  },
  {
   "cell_type": "markdown",
   "metadata": {},
   "source": [
    "# Own queries"
   ]
  },
  {
   "cell_type": "markdown",
   "metadata": {},
   "source": [
    "## Defining Scores"
   ]
  },
  {
   "cell_type": "code",
   "execution_count": null,
   "metadata": {},
   "outputs": [],
   "source": [
    "# Convert the lists to DataFrames\n",
    "df_q1 = pd.DataFrame(ranked_documents_1, columns=['doc_id', 'score'])\n",
    "df_q2 = pd.DataFrame(ranked_documents_2, columns=['doc_id', 'score'])\n",
    "df_q3 = pd.DataFrame(ranked_documents_3, columns=['doc_id', 'score'])\n",
    "df_q4 = pd.DataFrame(ranked_documents_4, columns=['doc_id', 'score'])\n",
    "df_q5 = pd.DataFrame(ranked_documents_5, columns=['doc_id', 'score'])\n",
    "\n",
    "\n",
    "# Add a column for query_id\n",
    "df_q1['query_id'] = 1\n",
    "df_q2['query_id'] = 2\n",
    "df_q3['query_id'] = 3\n",
    "df_q4['query_id'] = 4\n",
    "df_q5['query_id'] = 5\n",
    "\n",
    "# Concatenate the two DataFrames\n",
    "search_results = pd.concat([df_q1, df_q2, df_q3, df_q4, df_q5], ignore_index=True)\n",
    "search_results = search_results[[\"query_id\", \"doc_id\", \"score\"]] #reorder cols\n",
    "\n",
    "evaluation = pd.read_csv(\"../data/evaluation_gt_5queries.csv\", delimiter=\";\")\n",
    "results = pd.merge(evaluation, search_results, how='left', left_on=['docId', 'query_id'], right_on=['doc_id', 'query_id'])\n",
    "results.drop(columns=['doc_id'], inplace=True)\n",
    "# Fill Nan with 0 as it means that is has not found any relevant score for such query\n",
    "results.fillna(0, inplace=True)\n",
    "\n",
    "#Rename columns for better usage\n",
    "results.columns = [\"doc_id\", \"query_id\", \"is_relevant\", \"predicted_relevance\"]\n",
    "results = results[[\"query_id\", \"doc_id\", \"is_relevant\", \"predicted_relevance\"]]"
   ]
  },
  {
   "cell_type": "code",
   "execution_count": 38,
   "metadata": {},
   "outputs": [
    {
     "name": "stdout",
     "output_type": "stream",
     "text": [
      "Top 90 Results:\n",
      "------------------------------------------------------------\n",
      "RESULT 1\n",
      "Document doc_43187: 3.0634840969604533\n",
      "Content: Support farmers support farmers support Twitter #FarmersProtest  #RepealOnlyWayAhead https://t.co/zfRr9uMx8k\n",
      "------------------------------------------------------------\n",
      "RESULT 2\n",
      "Document doc_38864: 3.022813088119693\n",
      "Content: support farmers support #FarmersProtest \n",
      "#शहीद_जवान_शहीद_किसा\n",
      "------------------------------------------------------------\n",
      "RESULT 3\n",
      "Document doc_31878: 3.022813088119693\n",
      "Content: Support farmers, support humanity #Farmersprotest\n",
      "------------------------------------------------------------\n",
      "RESULT 4\n",
      "Document doc_47396: 2.8275827299999996\n",
      "Content: Support farmers all\n",
      "#MahapanchayatRevolution\n",
      "#FarmersProtest\n",
      "Support https://t.co/2Ox6j6rSO5\n",
      "------------------------------------------------------------\n",
      "RESULT 5\n",
      "Document doc_47382: 2.8275827299999996\n",
      "Content: We Support farmers\n",
      "#MahapanchayatRevolution\n",
      "#FarmersProtest\n",
      "Support https://t.co/NO7xBeVg9f\n",
      "------------------------------------------------------------\n",
      "RESULT 6\n",
      "Document doc_15877: 2.8275827299999996\n",
      "Content: Thank you for your support \n",
      "We support farmers\n",
      "#FarmersProtest https://t.co/xJeGIrkYeP\n",
      "------------------------------------------------------------\n",
      "RESULT 7\n",
      "Document doc_3699: 2.8275827299999996\n",
      "Content: Support farmers support truth \n",
      "#Pagdi_Sambhal_Jatta\n",
      "\n",
      "#FarmersProtest\n",
      "------------------------------------------------------------\n",
      "RESULT 8\n",
      "Document doc_47423: 2.8275827299999996\n",
      "Content: Support farmers\n",
      "#MahapanchayatRevolution\n",
      "#FarmersProtest\n",
      "Support https://t.co/b6Ipb8C1QS\n",
      "------------------------------------------------------------\n",
      "RESULT 9\n",
      "Document doc_30210: 2.824392782613666\n",
      "Content: We support our farmers..\n",
      "We support Indian youth who support farmers..\n",
      "\n",
      "Shame on Modi government...\n",
      "\n",
      "#FarmersProtest https://t.co/JnHrkXfVs2\n",
      "------------------------------------------------------------\n",
      "RESULT 10\n",
      "Document doc_26697: 2.7563251225879872\n",
      "Content: We support our farmers..\n",
      "We support Indian youth who support farmers..\n",
      "\n",
      "Shame on Modi government...\n",
      "\n",
      "#FarmersProtest\n",
      "#ReleaseDishaRavi https://t.co/jnhSt8EbUb\n",
      "------------------------------------------------------------\n",
      "RESULT 11\n",
      "Document doc_24459: 2.7556331538602574\n",
      "Content: Support Support Your Farmers we are the Nations Heart and Soul.  #FarmersMakeIndia\n",
      "I strongly support #FarmersProtest https://t.co/R5WDp1i1nq\n",
      "------------------------------------------------------------\n",
      "RESULT 12\n",
      "Document doc_41375: 2.6751275441368634\n",
      "Content: I support the farmers!! #farmersprotest\n",
      "------------------------------------------------------------\n",
      "RESULT 13\n",
      "Document doc_45741: 2.6751275441368634\n",
      "Content: Support Farmers 🙏🙏🙏🙏🙏🙏#FarmersProtest\n",
      "------------------------------------------------------------\n",
      "RESULT 14\n",
      "Document doc_2815: 2.6751275441368634\n",
      "Content: Support Farmers 🙏🙏🙏🙏🙏🙏#FarmersProtest\n",
      "------------------------------------------------------------\n",
      "RESULT 15\n",
      "Document doc_15412: 2.6751275441368634\n",
      "Content: Support Farmers 🙏🙏🙏🙏🙏#FarmersProtest\n",
      "------------------------------------------------------------\n",
      "RESULT 16\n",
      "Document doc_8769: 2.6751275441368634\n",
      "Content: #FarmersProtest I support farmers\n",
      "------------------------------------------------------------\n",
      "RESULT 17\n",
      "Document doc_30390: 2.6751275441368634\n",
      "Content: Support farmers #FarmersProtest\n",
      "------------------------------------------------------------\n",
      "RESULT 18\n",
      "Document doc_28796: 2.6751275441368634\n",
      "Content: Support Farmers 🙏🙏🙏🙏🙏#FarmersProtest\n",
      "------------------------------------------------------------\n",
      "RESULT 19\n",
      "Document doc_590: 2.6751275441368634\n",
      "Content: Support farmers #FarmersProtest\n",
      "------------------------------------------------------------\n",
      "RESULT 20\n",
      "Document doc_36131: 2.6751275441368634\n",
      "Content: We support Farmer\n",
      "#FarmersProtest\n",
      "------------------------------------------------------------\n",
      "RESULT 21\n",
      "Document doc_10990: 2.665870563665294\n",
      "Content: Support farmers support nation #FarmersProtest #MSPLawForAllCrops https://t.co/zCTy5Wi3Sx\n",
      "------------------------------------------------------------\n",
      "RESULT 22\n",
      "Document doc_21573: 2.665870563665294\n",
      "Content: Support farmers support nation #FarmersProtest #RailRokoForFarmers https://t.co/4VV05SYgbH\n",
      "------------------------------------------------------------\n",
      "RESULT 23\n",
      "Document doc_8333: 2.665870563665294\n",
      "Content: We support our farmers! Retweet to show your support \n",
      "#FarmersProtest https://t.co/MuZLqeVFUK\n",
      "------------------------------------------------------------\n",
      "RESULT 24\n",
      "Document doc_7471: 2.665870563665294\n",
      "Content: Support farmers support country #FarmersProtest #ModiIgnoringFarmersDeaths https://t.co/gQUakcryMp\n",
      "------------------------------------------------------------\n",
      "RESULT 25\n",
      "Document doc_30487: 2.665870563665294\n",
      "Content: Support farmers, support Nation\n",
      "#RememberSirChhotuRamInModiEra \n",
      "#FarmersProtest https://t.co/HQccRA2vD5\n",
      "------------------------------------------------------------\n",
      "RESULT 26\n",
      "Document doc_4430: 2.665870563665294\n",
      "Content: Support farmers support nation #FarmersProtest #Pagdi_Sambhal_Jatta https://t.co/1iw1t6xnq0\n",
      "------------------------------------------------------------\n",
      "RESULT 27\n",
      "Document doc_25509: 2.665870563665294\n",
      "Content: Support farmers support country #FarmersProtest #FarmersMakeIndia https://t.co/ekenxxXzMA\n",
      "------------------------------------------------------------\n",
      "RESULT 28\n",
      "Document doc_22998: 2.5812339951230796\n",
      "Content: I support farmers. Supporting farmers is not a anti national deed.Every citizen must support farmers. Please back 3 farm reform bill.#FarmersProtest\n",
      "------------------------------------------------------------\n",
      "RESULT 29\n",
      "Document doc_4323: 2.5783060638204827\n",
      "Content: Please support farmers ... the hands that feed the world \n",
      "If you support India, then support Indian farmers\n",
      " \n",
      "🙏🏻🙏🏻🙏🏻🙏🏻🙏🏻\n",
      "\n",
      "#Pagdi_Sambhal_Jatta\n",
      "#FarmersProtest\n",
      "1 https://t.co/CqJKsxizWf\n",
      "------------------------------------------------------------\n",
      "RESULT 30\n",
      "Document doc_18172: 2.529066878513773\n",
      "Content: @kamaalrkhan Support Farmers\n",
      "Support Nation 🇮🇳\n",
      "#FarmersProtest\n",
      "#ReleaseDetainedFarmers\n",
      "------------------------------------------------------------\n",
      "RESULT 31\n",
      "Document doc_1267: 2.529066878513773\n",
      "Content: We support farmers modi supports corporates #FarmersProtest #ModiDontSellFarmers https://t.co/eUl9dXGcZv\n",
      "------------------------------------------------------------\n",
      "RESULT 32\n",
      "Document doc_10987: 2.529066878513773\n",
      "Content: Support farmers support nation #FarmersProtest #MSPLawForAllCrops\n",
      "#GDP_में_किसान_का_हिस्सा https://t.co/E2RePZfQod\n",
      "------------------------------------------------------------\n",
      "RESULT 33\n",
      "Document doc_7035: 2.47715633966421\n",
      "Content: 🇮🇳🇮🇳🇮🇳🇮🇳🇮🇳🇮🇳🇮🇳🇮🇳🇮🇳\n",
      "🚜🚜🚜🚜🚜🚜🚜🚜🚜\n",
      "If you support India, then support Indian farmers\n",
      "Please support farmers ... the hands that feed the world  \n",
      "🙏🏻🙏🏻🙏🏻🙏🏻🙏🏻\n",
      "\n",
      "#ModiIgnoringFarmersDeaths\n",
      "#FarmersProtest\n",
      "94 https://t.co/rIuj0h3gaW\n",
      "------------------------------------------------------------\n",
      "RESULT 34\n",
      "Document doc_6953: 2.47715633966421\n",
      "Content: 🇮🇳🇮🇳🇮🇳🇮🇳🇮🇳🇮🇳🇮🇳🇮🇳🇮🇳\n",
      "🚜🚜🚜🚜🚜🚜🚜🚜🚜\n",
      "Please support farmers ... the hands that feed the world \n",
      "If you support India, then support Indian farmers\n",
      " \n",
      "🙏🏻🙏🏻🙏🏻🙏🏻🙏🏻\n",
      "\n",
      "#ModiIgnoringFarmersDeaths\n",
      "#FarmersProtest\n",
      "118 https://t.co/yK9NgQ1dBq\n",
      "------------------------------------------------------------\n",
      "RESULT 35\n",
      "Document doc_6934: 2.47715633966421\n",
      "Content: 🇮🇳🇮🇳🇮🇳🇮🇳🇮🇳🇮🇳🇮🇳🇮🇳🇮🇳\n",
      "🚜🚜🚜🚜🚜🚜🚜🚜🚜\n",
      "Please support farmers ... the hands that feed the world \n",
      "If you support India, then support Indian farmers\n",
      " \n",
      "🙏🏻🙏🏻🙏🏻🙏🏻🙏🏻\n",
      "\n",
      "#ModiIgnoringFarmersDeaths\n",
      "#FarmersProtest\n",
      "120 https://t.co/XmyZmtZXCT\n",
      "------------------------------------------------------------\n",
      "RESULT 36\n",
      "Document doc_7028: 2.47715633966421\n",
      "Content: 🇮🇳🇮🇳🇮🇳🇮🇳🇮🇳🇮🇳🇮🇳🇮🇳🇮🇳\n",
      "🚜🚜🚜🚜🚜🚜🚜🚜🚜\n",
      "If you support India, then support Indian farmers\n",
      "Please support farmers ... the hands that feed the world  \n",
      "🙏🏻🙏🏻🙏🏻🙏🏻🙏🏻\n",
      "\n",
      "#ModiIgnoringFarmersDeaths\n",
      "#FarmersProtest\n",
      "100 https://t.co/9FRWTouQDM\n",
      "------------------------------------------------------------\n",
      "RESULT 37\n",
      "Document doc_7038: 2.47715633966421\n",
      "Content: 🇮🇳🇮🇳🇮🇳🇮🇳🇮🇳🇮🇳🇮🇳🇮🇳🇮🇳\n",
      "🚜🚜🚜🚜🚜🚜🚜🚜🚜\n",
      "If you support India, then support Indian farmers\n",
      "Please support farmers ... the hands that feed the world  \n",
      "🙏🏻🙏🏻🙏🏻🙏🏻🙏🏻\n",
      "\n",
      "#ModiIgnoringFarmersDeaths\n",
      "#FarmersProtest\n",
      "93 https://t.co/fSOOkU57mc\n",
      "------------------------------------------------------------\n",
      "RESULT 38\n",
      "Document doc_7019: 2.47715633966421\n",
      "Content: 🇮🇳🇮🇳🇮🇳🇮🇳🇮🇳🇮🇳🇮🇳🇮🇳🇮🇳\n",
      "🚜🚜🚜🚜🚜🚜🚜🚜🚜\n",
      "If you support India, then support Indian farmers\n",
      "Please support farmers ... the hands that feed the world  \n",
      "🙏🏻🙏🏻🙏🏻🙏🏻🙏🏻\n",
      "\n",
      "#ModiIgnoringFarmersDeaths\n",
      "#FarmersProtest\n",
      "104 https://t.co/aDGhFHRiPt\n",
      "------------------------------------------------------------\n",
      "RESULT 39\n",
      "Document doc_7002: 2.47715633966421\n",
      "Content: 🇮🇳🇮🇳🇮🇳🇮🇳🇮🇳🇮🇳🇮🇳🇮🇳🇮🇳\n",
      "🚜🚜🚜🚜🚜🚜🚜🚜🚜\n",
      "Please support farmers ... the hands that feed the world \n",
      "If you support India, then support Indian farmers\n",
      " \n",
      "🙏🏻🙏🏻🙏🏻🙏🏻🙏🏻\n",
      "\n",
      "#ModiIgnoringFarmersDeaths\n",
      "#FarmersProtest\n",
      "113 https://t.co/KLQyL4NriK\n",
      "------------------------------------------------------------\n",
      "RESULT 40\n",
      "Document doc_7040: 2.47715633966421\n",
      "Content: 🇮🇳🇮🇳🇮🇳🇮🇳🇮🇳🇮🇳🇮🇳🇮🇳🇮🇳\n",
      "🚜🚜🚜🚜🚜🚜🚜🚜🚜\n",
      "If you support India, then support Indian farmers\n",
      "Please support farmers ... the hands that feed the world  \n",
      "🙏🏻🙏🏻🙏🏻🙏🏻🙏🏻\n",
      "\n",
      "#ModiIgnoringFarmersDeaths\n",
      "#FarmersProtest\n",
      "91 https://t.co/6uYK9GROFI\n",
      "------------------------------------------------------------\n",
      "RESULT 41\n",
      "Document doc_7008: 2.47715633966421\n",
      "Content: 🇮🇳🇮🇳🇮🇳🇮🇳🇮🇳🇮🇳🇮🇳🇮🇳🇮🇳\n",
      "🚜🚜🚜🚜🚜🚜🚜🚜🚜\n",
      "If you support India, then support Indian farmers\n",
      "Please support farmers ... the hands that feed the world  \n",
      "🙏🏻🙏🏻🙏🏻🙏🏻🙏🏻\n",
      "\n",
      "#ModiIgnoringFarmersDeaths\n",
      "#FarmersProtest\n",
      "110 https://t.co/U13jrrJj9W\n",
      "------------------------------------------------------------\n",
      "RESULT 42\n",
      "Document doc_6936: 2.47715633966421\n",
      "Content: 🇮🇳🇮🇳🇮🇳🇮🇳🇮🇳🇮🇳🇮🇳🇮🇳🇮🇳\n",
      "🚜🚜🚜🚜🚜🚜🚜🚜🚜\n",
      "Please support farmers ... the hands that feed the world \n",
      "If you support India, then support Indian farmers\n",
      " \n",
      "🙏🏻🙏🏻🙏🏻🙏🏻🙏🏻\n",
      "\n",
      "#ModiIgnoringFarmersDeaths\n",
      "#FarmersProtest\n",
      "119 https://t.co/rYZ0Xi43QW\n",
      "------------------------------------------------------------\n",
      "RESULT 43\n",
      "Document doc_7048: 2.47715633966421\n",
      "Content: 🇮🇳🇮🇳🇮🇳🇮🇳🇮🇳🇮🇳🇮🇳🇮🇳🇮🇳\n",
      "🚜🚜🚜🚜🚜🚜🚜🚜🚜\n",
      "Support India Support Indian farmers\n",
      "Please support farmers ... the hands that feed the world  \n",
      "🙏🏻🙏🏻🙏🏻🙏🏻🙏🏻\n",
      "\n",
      "#ModiIgnoringFarmersDeaths\n",
      "#FarmersProtest\n",
      "83 https://t.co/peW0rWmiSB\n",
      "------------------------------------------------------------\n",
      "RESULT 44\n",
      "Document doc_6994: 2.47715633966421\n",
      "Content: 🇮🇳🇮🇳🇮🇳🇮🇳🇮🇳🇮🇳🇮🇳🇮🇳🇮🇳\n",
      "🚜🚜🚜🚜🚜🚜🚜🚜🚜\n",
      "Please support farmers ... the hands that feed the world \n",
      "If you support India, then support Indian farmers\n",
      " \n",
      "🙏🏻🙏🏻🙏🏻🙏🏻🙏🏻\n",
      "\n",
      "#ModiIgnoringFarmersDeaths\n",
      "#FarmersProtest\n",
      "116 https://t.co/5eLQzi2jQq\n",
      "------------------------------------------------------------\n",
      "RESULT 45\n",
      "Document doc_7046: 2.47715633966421\n",
      "Content: 🇮🇳🇮🇳🇮🇳🇮🇳🇮🇳🇮🇳🇮🇳🇮🇳🇮🇳\n",
      "🚜🚜🚜🚜🚜🚜🚜🚜🚜\n",
      "Support India Support Indian farmers\n",
      "Please support farmers ... the hands that feed the world  \n",
      "🙏🏻🙏🏻🙏🏻🙏🏻🙏🏻\n",
      "\n",
      "#ModiIgnoringFarmersDeaths\n",
      "#FarmersProtest\n",
      "85 https://t.co/apNdYhoAg3\n",
      "------------------------------------------------------------\n",
      "RESULT 46\n",
      "Document doc_7005: 2.47715633966421\n",
      "Content: 🇮🇳🇮🇳🇮🇳🇮🇳🇮🇳🇮🇳🇮🇳🇮🇳🇮🇳\n",
      "🚜🚜🚜🚜🚜🚜🚜🚜🚜\n",
      "If you support India, then support Indian farmers\n",
      "Please support farmers ... the hands that feed the world  \n",
      "🙏🏻🙏🏻🙏🏻🙏🏻🙏🏻\n",
      "\n",
      "#ModiIgnoringFarmersDeaths\n",
      "#FarmersProtest\n",
      "111 https://t.co/2TQknwHzGu\n",
      "------------------------------------------------------------\n",
      "RESULT 47\n",
      "Document doc_7003: 2.47715633966421\n",
      "Content: 🇮🇳🇮🇳🇮🇳🇮🇳🇮🇳🇮🇳🇮🇳🇮🇳🇮🇳\n",
      "🚜🚜🚜🚜🚜🚜🚜🚜🚜\n",
      "Please support farmers ... the hands that feed the world \n",
      "If you support India, then support Indian farmers\n",
      " \n",
      "🙏🏻🙏🏻🙏🏻🙏🏻🙏🏻\n",
      "\n",
      "#ModiIgnoringFarmersDeaths\n",
      "#FarmersProtest\n",
      "112 https://t.co/RIJabhZIlI\n",
      "------------------------------------------------------------\n",
      "RESULT 48\n",
      "Document doc_7010: 2.47715633966421\n",
      "Content: 🇮🇳🇮🇳🇮🇳🇮🇳🇮🇳🇮🇳🇮🇳🇮🇳🇮🇳\n",
      "🚜🚜🚜🚜🚜🚜🚜🚜🚜\n",
      "If you support India, then support Indian farmers\n",
      "Please support farmers ... the hands that feed the world  \n",
      "🙏🏻🙏🏻🙏🏻🙏🏻🙏🏻\n",
      "\n",
      "#ModiIgnoringFarmersDeaths\n",
      "#FarmersProtest\n",
      "109 https://t.co/V7b9DWXUp5\n",
      "------------------------------------------------------------\n",
      "RESULT 49\n",
      "Document doc_7052: 2.47715633966421\n",
      "Content: 🇮🇳🇮🇳🇮🇳🇮🇳🇮🇳🇮🇳🇮🇳🇮🇳🇮🇳\n",
      "🚜🚜🚜🚜🚜🚜🚜🚜🚜\n",
      "Support India Support Indian farmers\n",
      "Please support farmers ... the hands that feed the world  \n",
      "🙏🏻🙏🏻🙏🏻🙏🏻🙏🏻\n",
      "\n",
      "#ModiIgnoringFarmersDeaths\n",
      "#FarmersProtest\n",
      "79 https://t.co/pPJbjfLVkA\n",
      "------------------------------------------------------------\n",
      "RESULT 50\n",
      "Document doc_7014: 2.47715633966421\n",
      "Content: 🇮🇳🇮🇳🇮🇳🇮🇳🇮🇳🇮🇳🇮🇳🇮🇳🇮🇳\n",
      "🚜🚜🚜🚜🚜🚜🚜🚜🚜\n",
      "If you support India, then support Indian farmers\n",
      "Please support farmers ... the hands that feed the world  \n",
      "🙏🏻🙏🏻🙏🏻🙏🏻🙏🏻\n",
      "\n",
      "#ModiIgnoringFarmersDeaths\n",
      "#FarmersProtest\n",
      "107 https://t.co/Kn0YXIBDB8\n",
      "------------------------------------------------------------\n",
      "RESULT 51\n",
      "Document doc_7025: 2.47715633966421\n",
      "Content: 🇮🇳🇮🇳🇮🇳🇮🇳🇮🇳🇮🇳🇮🇳🇮🇳🇮🇳\n",
      "🚜🚜🚜🚜🚜🚜🚜🚜🚜\n",
      "If you support India, then support Indian farmers\n",
      "Please support farmers ... the hands that feed the world  \n",
      "🙏🏻🙏🏻🙏🏻🙏🏻🙏🏻\n",
      "\n",
      "#ModiIgnoringFarmersDeaths\n",
      "#FarmersProtest\n",
      "101 https://t.co/8N8zsDjcER\n",
      "------------------------------------------------------------\n",
      "RESULT 52\n",
      "Document doc_7041: 2.47715633966421\n",
      "Content: 🇮🇳🇮🇳🇮🇳🇮🇳🇮🇳🇮🇳🇮🇳🇮🇳🇮🇳\n",
      "🚜🚜🚜🚜🚜🚜🚜🚜🚜\n",
      "If you support India, then support Indian farmers\n",
      "Please support farmers ... the hands that feed the world  \n",
      "🙏🏻🙏🏻🙏🏻🙏🏻🙏🏻\n",
      "\n",
      "#ModiIgnoringFarmersDeaths\n",
      "#FarmersProtest\n",
      "90 https://t.co/qVBqRdR8OI\n",
      "------------------------------------------------------------\n",
      "RESULT 53\n",
      "Document doc_6992: 2.47715633966421\n",
      "Content: 🇮🇳🇮🇳🇮🇳🇮🇳🇮🇳🇮🇳🇮🇳🇮🇳🇮🇳\n",
      "🚜🚜🚜🚜🚜🚜🚜🚜🚜\n",
      "Please support farmers ... the hands that feed the world \n",
      "If you support India, then support Indian farmers\n",
      " \n",
      "🙏🏻🙏🏻🙏🏻🙏🏻🙏🏻\n",
      "\n",
      "#ModiIgnoringFarmersDeaths\n",
      "#FarmersProtest\n",
      "117 https://t.co/o4w2MF5cr1\n",
      "------------------------------------------------------------\n",
      "RESULT 54\n",
      "Document doc_7031: 2.47715633966421\n",
      "Content: 🇮🇳🇮🇳🇮🇳🇮🇳🇮🇳🇮🇳🇮🇳🇮🇳🇮🇳\n",
      "🚜🚜🚜🚜🚜🚜🚜🚜🚜\n",
      "If you support India, then support Indian farmers\n",
      "Please support farmers ... the hands that feed the world  \n",
      "🙏🏻🙏🏻🙏🏻🙏🏻🙏🏻\n",
      "\n",
      "#ModiIgnoringFarmersDeaths\n",
      "#FarmersProtest\n",
      "96 https://t.co/fQWT5UsQjV\n",
      "------------------------------------------------------------\n",
      "RESULT 55\n",
      "Document doc_7053: 2.47715633966421\n",
      "Content: 🇮🇳🇮🇳🇮🇳🇮🇳🇮🇳🇮🇳🇮🇳🇮🇳🇮🇳\n",
      "🚜🚜🚜🚜🚜🚜🚜🚜🚜\n",
      "Support India Support Indian farmers\n",
      "Please support farmers ... the hands that feed the world  \n",
      "🙏🏻🙏🏻🙏🏻🙏🏻🙏🏻\n",
      "\n",
      "#ModiIgnoringFarmersDeaths\n",
      "#FarmersProtest\n",
      "77 https://t.co/Ea61rvX7BR\n",
      "------------------------------------------------------------\n",
      "RESULT 56\n",
      "Document doc_7021: 2.47715633966421\n",
      "Content: 🇮🇳🇮🇳🇮🇳🇮🇳🇮🇳🇮🇳🇮🇳🇮🇳🇮🇳\n",
      "🚜🚜🚜🚜🚜🚜🚜🚜🚜\n",
      "If you support India, then support Indian farmers\n",
      "Please support farmers ... the hands that feed the world  \n",
      "🙏🏻🙏🏻🙏🏻🙏🏻🙏🏻\n",
      "\n",
      "#ModiIgnoringFarmersDeaths\n",
      "#FarmersProtest\n",
      "102 https://t.co/MW9E43f7LB\n",
      "------------------------------------------------------------\n",
      "RESULT 57\n",
      "Document doc_7043: 2.47715633966421\n",
      "Content: 🇮🇳🇮🇳🇮🇳🇮🇳🇮🇳🇮🇳🇮🇳🇮🇳🇮🇳\n",
      "🚜🚜🚜🚜🚜🚜🚜🚜🚜\n",
      "If you support India, then support Indian farmers\n",
      "Please support farmers ... the hands that feed the world  \n",
      "🙏🏻🙏🏻🙏🏻🙏🏻🙏🏻\n",
      "\n",
      "#ModiIgnoringFarmersDeaths\n",
      "#FarmersProtest\n",
      "87 https://t.co/iE2M93WmBu\n",
      "------------------------------------------------------------\n",
      "RESULT 58\n",
      "Document doc_6973: 2.47715633966421\n",
      "Content: 🇮🇳🇮🇳🇮🇳🇮🇳🇮🇳🇮🇳🇮🇳🇮🇳🇮🇳\n",
      "🚜🚜🚜🚜🚜🚜🚜🚜🚜\n",
      "Please support farmers ... the hands that feed the world \n",
      "If you support India, then support Indian farmers\n",
      " \n",
      "🙏🏻🙏🏻🙏🏻🙏🏻🙏🏻\n",
      "\n",
      "#ModiIgnoringFarmersDeaths\n",
      "#FarmersProtest\n",
      "116 https://t.co/8B3CDXwvD8\n",
      "------------------------------------------------------------\n",
      "RESULT 59\n",
      "Document doc_7034: 2.4308502689358114\n",
      "Content: 🇮🇳🇮🇳🇮🇳🇮🇳🇮🇳🇮🇳🇮🇳🇮🇳🇮🇳\n",
      "🚜🚜🚜🚜🚜🚜🚜🚜🚜\n",
      "If you support India, then support Indian farmers\n",
      "Please support farmers ... the hands that feed the world  \n",
      "🙏🏻🙏🏻🙏🏻🙏🏻🙏🏻\n",
      "\n",
      "#FreeDishaRavi\n",
      "#ModiIgnoringFarmersDeaths\n",
      "#FarmersProtest\n",
      "95 https://t.co/Ty7MhKrh1b\n",
      "------------------------------------------------------------\n",
      "RESULT 60\n",
      "Document doc_33745: 2.4197439082491488\n",
      "Content: Increasingly, supporting farmers is becoming a crime. From Journalists to Activists, doesn't matter who you are, if you Support Farmers you will be attacked by the Government. Supporting Farmers Is Not A Crime!\n",
      "#DishaRavi #FarmersProtest https://t.co/cBJpI9SozO\n",
      "------------------------------------------------------------\n",
      "RESULT 61\n",
      "Document doc_25607: 2.4113706543630102\n",
      "Content: I support farmers bcoz they deserve our support &amp; our respect. \n",
      "\n",
      "#FarmersMakeIndia\n",
      "#FarmersProtest\n",
      "------------------------------------------------------------\n",
      "RESULT 62\n",
      "Document doc_26981: 2.4113706543630102\n",
      "Content: I support farmers today and I will continue to support then tomorrow #FarmersProtest #BJPdestroysDemocracy https://t.co/FiCpgx4X2V\n",
      "------------------------------------------------------------\n",
      "RESULT 63\n",
      "Document doc_47678: 2.4113706543630102\n",
      "Content: Support Farmers, Support better Future #FarmersProtest #FarmersStandingFirm #SupportFarmersProtest https://t.co/OPJ9TXn6uq\n",
      "------------------------------------------------------------\n",
      "RESULT 64\n",
      "Document doc_25965: 2.4113706543630102\n",
      "Content: Support Support Your Farmers we are the Nations Heart and Soul.  #FarmersMakeIndia\n",
      "#FarmersProtest https://t.co/rC9xcLDPCo\n",
      "------------------------------------------------------------\n",
      "RESULT 65\n",
      "Document doc_43922: 2.4113706543630102\n",
      "Content: @iamsrk Maybe give some support to all farmers who have always supported you #FarmersProtest #IStandWithFarmers\n",
      "------------------------------------------------------------\n",
      "RESULT 66\n",
      "Document doc_25208: 2.4113706543630102\n",
      "Content: Support Support Your Farmers we are the Nations Heart and Soul.  #FarmersMakeIndia\n",
      "#FarmersProtest https://t.co/EtFiwUzcKh\n",
      "------------------------------------------------------------\n",
      "RESULT 67\n",
      "Document doc_24518: 2.4113706543630102\n",
      "Content: Support Support Your Farmers we are the Nations Heart and Soul.  #FarmersMakeIndia\n",
      "#FarmersProtest https://t.co/risvN805Md\n",
      "------------------------------------------------------------\n",
      "RESULT 68\n",
      "Document doc_4354: 2.3870475772504536\n",
      "Content: #Pagdi_Sambhal_Jatta\n",
      "🇮🇳🇮🇳🇮🇳🇮🇳🇮🇳🇮🇳🇮🇳🇮🇳🇮🇳\n",
      "🚜🚜🚜🚜🚜🚜🚜🚜🚜\n",
      "Please support farmers ... the hands that feed the world \n",
      "If you support India, then support Indian farmers\n",
      " \n",
      "🙏🏻🙏🏻🙏🏻🙏🏻🙏🏻\n",
      "\n",
      "#Pagdi_Sambhal_Jatta\n",
      "#FarmersProtest\n",
      "1\n",
      "------------------------------------------------------------\n",
      "RESULT 69\n",
      "Document doc_4340: 2.345530539275917\n",
      "Content: #Pagdi_Sambhal_Jatta\n",
      "🇮🇳🇮🇳🇮🇳🇮🇳🇮🇳🇮🇳🇮🇳🇮🇳🇮🇳\n",
      "🚜🚜🚜🚜🚜🚜🚜🚜🚜\n",
      "Please support farmers ... the hands that feed the world \n",
      "If you support India, then support Indian farmers\n",
      " \n",
      "🙏🏻🙏🏻🙏🏻🙏🏻🙏🏻\n",
      "\n",
      "#Pagdi_Sambhal_Jatta\n",
      "#FarmersProtest\n",
      "5 https://t.co/s6DWM47zLB\n",
      "------------------------------------------------------------\n",
      "RESULT 70\n",
      "Document doc_4325: 2.345530539275917\n",
      "Content: #Pagdi_Sambhal_Jatta\n",
      "🇮🇳🇮🇳🇮🇳🇮🇳🇮🇳🇮🇳🇮🇳🇮🇳🇮🇳\n",
      "🚜🚜🚜🚜🚜🚜🚜🚜🚜\n",
      "Please support farmers ... the hands that feed the world \n",
      "If you support India, then support Indian farmers\n",
      " \n",
      "🙏🏻🙏🏻🙏🏻🙏🏻🙏🏻\n",
      "\n",
      "#Pagdi_Sambhal_Jatta\n",
      "#FarmersProtest\n",
      "11 https://t.co/AOpeo0wVfk\n",
      "------------------------------------------------------------\n",
      "RESULT 71\n",
      "Document doc_4336: 2.345530539275917\n",
      "Content: #Pagdi_Sambhal_Jatta\n",
      "🇮🇳🇮🇳🇮🇳🇮🇳🇮🇳🇮🇳🇮🇳🇮🇳🇮🇳\n",
      "🚜🚜🚜🚜🚜🚜🚜🚜🚜\n",
      "Please support farmers ... the hands that feed the world \n",
      "If you support India, then support Indian farmers\n",
      " \n",
      "🙏🏻🙏🏻🙏🏻🙏🏻🙏🏻\n",
      "\n",
      "#Pagdi_Sambhal_Jatta\n",
      "#FarmersProtest\n",
      "7 https://t.co/AG3yfsNf9M\n",
      "------------------------------------------------------------\n",
      "RESULT 72\n",
      "Document doc_4337: 2.345530539275917\n",
      "Content: #Pagdi_Sambhal_Jatta\n",
      "🇮🇳🇮🇳🇮🇳🇮🇳🇮🇳🇮🇳🇮🇳🇮🇳🇮🇳\n",
      "🚜🚜🚜🚜🚜🚜🚜🚜🚜\n",
      "Please support farmers ... the hands that feed the world \n",
      "If you support India, then support Indian farmers\n",
      " \n",
      "🙏🏻🙏🏻🙏🏻🙏🏻🙏🏻\n",
      "\n",
      "#Pagdi_Sambhal_Jatta\n",
      "#FarmersProtest\n",
      "6 https://t.co/LPCsdms5yp\n",
      "------------------------------------------------------------\n",
      "RESULT 73\n",
      "Document doc_4344: 2.345530539275917\n",
      "Content: #Pagdi_Sambhal_Jatta\n",
      "🇮🇳🇮🇳🇮🇳🇮🇳🇮🇳🇮🇳🇮🇳🇮🇳🇮🇳\n",
      "🚜🚜🚜🚜🚜🚜🚜🚜🚜\n",
      "Please support farmers ... the hands that feed the world \n",
      "If you support India, then support Indian farmers\n",
      " \n",
      "🙏🏻🙏🏻🙏🏻🙏🏻🙏🏻\n",
      "\n",
      "#Pagdi_Sambhal_Jatta\n",
      "#FarmersProtest\n",
      "4 https://t.co/krBrmyKUGN\n",
      "------------------------------------------------------------\n",
      "RESULT 74\n",
      "Document doc_4348: 2.345530539275917\n",
      "Content: #Pagdi_Sambhal_Jatta\n",
      "🇮🇳🇮🇳🇮🇳🇮🇳🇮🇳🇮🇳🇮🇳🇮🇳🇮🇳\n",
      "🚜🚜🚜🚜🚜🚜🚜🚜🚜\n",
      "Please support farmers ... the hands that feed the world \n",
      "If you support India, then support Indian farmers\n",
      " \n",
      "🙏🏻🙏🏻🙏🏻🙏🏻🙏🏻\n",
      "\n",
      "#Pagdi_Sambhal_Jatta\n",
      "#FarmersProtest\n",
      "2 https://t.co/TtSo6pqsht\n",
      "------------------------------------------------------------\n",
      "RESULT 75\n",
      "Document doc_4334: 2.345530539275917\n",
      "Content: #Pagdi_Sambhal_Jatta\n",
      "🇮🇳🇮🇳🇮🇳🇮🇳🇮🇳🇮🇳🇮🇳🇮🇳🇮🇳\n",
      "🚜🚜🚜🚜🚜🚜🚜🚜🚜\n",
      "Please support farmers ... the hands that feed the world \n",
      "If you support India, then support Indian farmers\n",
      " \n",
      "🙏🏻🙏🏻🙏🏻🙏🏻🙏🏻\n",
      "\n",
      "#Pagdi_Sambhal_Jatta\n",
      "#FarmersProtest\n",
      "9 https://t.co/7oGjGJ4Tcc\n",
      "------------------------------------------------------------\n",
      "RESULT 76\n",
      "Document doc_4346: 2.345530539275917\n",
      "Content: #Pagdi_Sambhal_Jatta\n",
      "🇮🇳🇮🇳🇮🇳🇮🇳🇮🇳🇮🇳🇮🇳🇮🇳🇮🇳\n",
      "🚜🚜🚜🚜🚜🚜🚜🚜🚜\n",
      "Please support farmers ... the hands that feed the world \n",
      "If you support India, then support Indian farmers\n",
      " \n",
      "🙏🏻🙏🏻🙏🏻🙏🏻🙏🏻\n",
      "\n",
      "#Pagdi_Sambhal_Jatta\n",
      "#FarmersProtest\n",
      "3 https://t.co/b0vjkUjDyU\n",
      "------------------------------------------------------------\n",
      "RESULT 77\n",
      "Document doc_4333: 2.345530539275917\n",
      "Content: #Pagdi_Sambhal_Jatta\n",
      "🇮🇳🇮🇳🇮🇳🇮🇳🇮🇳🇮🇳🇮🇳🇮🇳🇮🇳\n",
      "🚜🚜🚜🚜🚜🚜🚜🚜🚜\n",
      "Please support farmers ... the hands that feed the world \n",
      "If you support India, then support Indian farmers\n",
      " \n",
      "🙏🏻🙏🏻🙏🏻🙏🏻🙏🏻\n",
      "\n",
      "#Pagdi_Sambhal_Jatta\n",
      "#FarmersProtest\n",
      "10 https://t.co/PvGzTXnjHM\n",
      "------------------------------------------------------------\n",
      "RESULT 78\n",
      "Document doc_18285: 2.3167284115860007\n",
      "Content: We support our farmers \n",
      "\n",
      "#ReleaseDetainedFarmers\n",
      "#FarmersProtest\n",
      "------------------------------------------------------------\n",
      "RESULT 79\n",
      "Document doc_44626: 2.3167284115860007\n",
      "Content: #FarmersProtest \n",
      "please support farmers\n",
      "------------------------------------------------------------\n",
      "RESULT 80\n",
      "Document doc_47822: 2.3167284115860007\n",
      "Content: SUPPORT FARMERS \n",
      "#MahapanchayatRevolution\n",
      "#FarmersProtest\n",
      "------------------------------------------------------------\n",
      "RESULT 81\n",
      "Document doc_15742: 2.3167284115860007\n",
      "Content: Support farmers\n",
      "#FarmersProtest https://t.co/vSOE2wgMYC\n",
      "------------------------------------------------------------\n",
      "RESULT 82\n",
      "Document doc_30637: 2.3167284115860007\n",
      "Content: Support farmers\n",
      "#RememberSirChhotuRamInModiEra #FarmersProtest\n",
      "------------------------------------------------------------\n",
      "RESULT 83\n",
      "Document doc_34581: 2.3167284115860007\n",
      "Content: Farmer support is not crime.. \n",
      "#FarmersProtest\n",
      "------------------------------------------------------------\n",
      "RESULT 84\n",
      "Document doc_9483: 2.3167284115860007\n",
      "Content: I support farmers 🌾🌾🌾 #FarmersProtest\n",
      "------------------------------------------------------------\n",
      "RESULT 85\n",
      "Document doc_24525: 2.3167284115860007\n",
      "Content: #FarmersProtest we must support farmers\n",
      "------------------------------------------------------------\n",
      "RESULT 86\n",
      "Document doc_44324: 2.3167284115860007\n",
      "Content: Support Farmers \n",
      "#FarmersProtest https://t.co/DHZ1qnPg9A\n",
      "------------------------------------------------------------\n",
      "RESULT 87\n",
      "Document doc_36030: 2.3167284115860007\n",
      "Content: @Jasmine83303398 Support farmers #FarmersProtest\n",
      "------------------------------------------------------------\n",
      "RESULT 88\n",
      "Document doc_28576: 2.3167284115860007\n",
      "Content: Support farmers ✊\n",
      "#FarmersProtest\n",
      "------------------------------------------------------------\n",
      "RESULT 89\n",
      "Document doc_5708: 2.3167284115860007\n",
      "Content: #FarmersProtest support our farmers https://t.co/GKKb4K6Qux\n",
      "------------------------------------------------------------\n",
      "RESULT 90\n",
      "Document doc_44038: 2.3167284115860007\n",
      "Content: I support Farmers #FarmersProtest https://t.co/hBWfdJbzxG\n",
      "------------------------------------------------------------\n"
     ]
    }
   ],
   "source": [
    "query1 = \"Indian protest\"           # What is the indian protest?\n",
    "query2 = \"support farmers\"          # Why to support the farmers?\n",
    "query3 = \"Delhi farmers\"            # Who are the Delhi farmers\n",
    "query4 = \"Government corrupt\"       # The Government is corrupt\n",
    "query5 = \"president India\"          # What is the president of India doing?\n",
    "\n",
    "\n",
    "irk.display_scores_tf_idf(ranked_documents_2, docid_to_tweetid, tweets, 90)"
   ]
  },
  {
   "cell_type": "code",
   "execution_count": 39,
   "metadata": {},
   "outputs": [
    {
     "name": "stdout",
     "output_type": "stream",
     "text": [
      "doc_43187\n",
      "doc_38864\n",
      "doc_31878\n",
      "doc_47396\n",
      "doc_47382\n",
      "doc_15877\n",
      "doc_3699\n",
      "doc_47423\n",
      "doc_30210\n",
      "doc_26697\n",
      "doc_24459\n",
      "doc_41375\n",
      "doc_45741\n",
      "doc_2815\n",
      "doc_15412\n",
      "doc_8769\n",
      "doc_30390\n",
      "doc_28796\n",
      "doc_590\n",
      "doc_36131\n",
      "doc_10990\n",
      "doc_21573\n",
      "doc_8333\n",
      "doc_7471\n",
      "doc_30487\n",
      "doc_4430\n",
      "doc_25509\n",
      "doc_22998\n",
      "doc_4323\n",
      "doc_18172\n"
     ]
    }
   ],
   "source": [
    "for i in range(0,30):\n",
    "    print(ranked_documents_2[i][0])"
   ]
  },
  {
   "cell_type": "markdown",
   "metadata": {},
   "source": [
    "### Precision@K (P@K)"
   ]
  },
  {
   "cell_type": "markdown",
   "metadata": {},
   "source": [
    "### Recall@K (R@K)"
   ]
  },
  {
   "cell_type": "markdown",
   "metadata": {},
   "source": [
    "### Average Precision@K (P@K)"
   ]
  },
  {
   "cell_type": "markdown",
   "metadata": {},
   "source": [
    "### F1-Score@K"
   ]
  },
  {
   "cell_type": "markdown",
   "metadata": {},
   "source": [
    "### Mean Average Precision (MAP)"
   ]
  },
  {
   "cell_type": "markdown",
   "metadata": {},
   "source": [
    "### Mean Reciprocal Rank (MRR)"
   ]
  },
  {
   "cell_type": "markdown",
   "metadata": {},
   "source": [
    "## T-SNE"
   ]
  }
 ],
 "metadata": {
  "kernelspec": {
   "display_name": ".venv",
   "language": "python",
   "name": "python3"
  },
  "language_info": {
   "codemirror_mode": {
    "name": "ipython",
    "version": 3
   },
   "file_extension": ".py",
   "mimetype": "text/x-python",
   "name": "python",
   "nbconvert_exporter": "python",
   "pygments_lexer": "ipython3",
   "version": "3.11.9"
  }
 },
 "nbformat": 4,
 "nbformat_minor": 2
}
