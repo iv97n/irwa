{
 "cells": [
  {
   "cell_type": "markdown",
   "metadata": {},
   "source": [
    "<p style=\"font-size:78px\">Final Project IRWA (2024-2025)</p>"
   ]
  },
  {
   "cell_type": "markdown",
   "metadata": {},
   "source": [
    "<p style=\"font-size:48px\">Part 2: Indexing and Evaluation</p>"
   ]
  },
  {
   "cell_type": "code",
   "execution_count": 67,
   "metadata": {},
   "outputs": [
    {
     "ename": "ModuleNotFoundError",
     "evalue": "No module named 'sklearn'",
     "output_type": "error",
     "traceback": [
      "\u001b[1;31m---------------------------------------------------------------------------\u001b[0m",
      "\u001b[1;31mModuleNotFoundError\u001b[0m                       Traceback (most recent call last)",
      "Cell \u001b[1;32mIn[67], line 19\u001b[0m\n\u001b[0;32m     17\u001b[0m \u001b[38;5;28;01mimport\u001b[39;00m \u001b[38;5;21;01mirwa\u001b[39;00m\u001b[38;5;21;01m.\u001b[39;00m\u001b[38;5;21;01mranking\u001b[39;00m \u001b[38;5;28;01mas\u001b[39;00m \u001b[38;5;21;01mirk\u001b[39;00m\n\u001b[0;32m     18\u001b[0m \u001b[38;5;28;01mimport\u001b[39;00m \u001b[38;5;21;01mirwa\u001b[39;00m\u001b[38;5;21;01m.\u001b[39;00m\u001b[38;5;21;01mevaluation\u001b[39;00m \u001b[38;5;28;01mas\u001b[39;00m \u001b[38;5;21;01meva\u001b[39;00m\n\u001b[1;32m---> 19\u001b[0m \u001b[38;5;28;01mimport\u001b[39;00m \u001b[38;5;21;01msklearn\u001b[39;00m\n\u001b[0;32m     20\u001b[0m \u001b[38;5;28;01mfrom\u001b[39;00m \u001b[38;5;21;01msklearn\u001b[39;00m\u001b[38;5;21;01m.\u001b[39;00m\u001b[38;5;21;01mmetrics\u001b[39;00m \u001b[38;5;28;01mimport\u001b[39;00m average_precision_score\n\u001b[0;32m     22\u001b[0m \u001b[38;5;66;03m# The following lines allow for autoreload of modules. They allow changes in modules without the need to reload the kernel.\u001b[39;00m\n",
      "\u001b[1;31mModuleNotFoundError\u001b[0m: No module named 'sklearn'"
     ]
    }
   ],
   "source": [
    "# Standard library imports\n",
    "import os\n",
    "import sys\n",
    "\n",
    "# Third-party imports\n",
    "import pandas as pd\n",
    "import numpy as np\n",
    "\n",
    "# Local application imports\n",
    "current_dir = os.path.dirname(os.path.abspath(__file__)) if '__file__' in locals() else os.getcwd()\n",
    "project_root = os.path.join(current_dir, '..')\n",
    "if project_root not in sys.path:\n",
    "    sys.path.append(project_root)\n",
    "import irwa.loading as ild \n",
    "import irwa.preprocessing as ipp\n",
    "import irwa.indexing as ind\n",
    "import irwa.ranking as irk\n",
    "import irwa.evaluation as eva\n",
    "#from sklearn.metrics import average_precision_score\n",
    "\n",
    "# The following lines allow for autoreload of modules. They allow changes in modules without the need to reload the kernel.\n",
    "%load_ext autoreload\n",
    "%autoreload 2"
   ]
  },
  {
   "cell_type": "markdown",
   "metadata": {},
   "source": [
    "# 1) Indexing"
   ]
  },
  {
   "cell_type": "code",
   "execution_count": 2,
   "metadata": {},
   "outputs": [
    {
     "name": "stdout",
     "output_type": "stream",
     "text": [
      "Loaded 117407 tweets\n",
      "Loaded 48429 documents with their corresponding tokenized tweet content\n"
     ]
    }
   ],
   "source": [
    "# Loading\n",
    "file_path = '../data/farmers-protest-tweets.json'\n",
    "tweets = ild.load_tweets_from_json(file_path)\n",
    "print(f\"Loaded {len(tweets)} tweets\")\n",
    "\n",
    "# Preprocessing\n",
    "tweet_document_ids_map_df = \"../data/tweet_document_ids_map.csv\"\n",
    "docid_to_tweetid, token_tweets = ipp.create_tokenized_dictionary(tweets, tweet_document_ids_map_df)\n",
    "print(f\"Loaded {len(token_tweets)} documents with their corresponding tokenized tweet content\")"
   ]
  },
  {
   "cell_type": "code",
   "execution_count": 3,
   "metadata": {},
   "outputs": [],
   "source": [
    "inverted_index, tf, idf = ind.create_inverted_index_tf_idf(token_tweets)"
   ]
  },
  {
   "cell_type": "code",
   "execution_count": 5,
   "metadata": {},
   "outputs": [],
   "source": [
    "# Definition of test queries\n",
    "query1 = \"Indian protest\"      # Example given in handout\n",
    "query2 = \"support farmers\"     # Example given in handout\n",
    "query3 = \"Delhi farmers\"\n",
    "query4 = \"Government corrupt\"\n",
    "query5 = \"president India\""
   ]
  },
  {
   "cell_type": "markdown",
   "metadata": {},
   "source": [
    "#### Query 1"
   ]
  },
  {
   "cell_type": "code",
   "execution_count": 16,
   "metadata": {},
   "outputs": [
    {
     "name": "stdout",
     "output_type": "stream",
     "text": [
      "Top 5 Results:\n",
      "------------------------------------------------------------\n",
      "RESULT 1\n",
      "Document doc_9676: 1.418501666\n",
      "Content: This is why Indian Farmers are protesting #FarmersProtest https://t.co/9mzFBGQaXL\n",
      "------------------------------------------------------------\n",
      "RESULT 2\n",
      "Document doc_34729: 1.406224306875\n",
      "Content: Indian farmers' protests: Why they matter to British Indians\n",
      "#FarmersProtest  https://t.co/kyCWnDVyEm\n",
      "------------------------------------------------------------\n",
      "RESULT 3\n",
      "Document doc_39111: 1.1820847216666666\n",
      "Content: Indian farmers have right to peacefull protest #FarmersProtest\n",
      "------------------------------------------------------------\n",
      "RESULT 4\n",
      "Document doc_30422: 1.1820847216666666\n",
      "Content: Why are Indian farmers protesting against the government?\n",
      "#FarmersProtest  https://t.co/eMUGoXtabZ\n",
      "------------------------------------------------------------\n",
      "RESULT 5\n",
      "Document doc_33904: 1.1249794455000002\n",
      "Content: Indian farmers' protests: Why they matter to British Indians\n",
      "\n",
      "#FarmersStandingFirm #FarmersProtest #StandWithFarmers \n",
      "\n",
      "https://t.co/ywgPhLCvm9\n",
      "------------------------------------------------------------\n"
     ]
    }
   ],
   "source": [
    "# Ranking results with TF-IDF\n",
    "ranked_documents_1 = irk.rank_documents(ipp.build_terms(query1), token_tweets, inverted_index, tf, idf, filter=irk.conjunctive_filtering)\n",
    "irk.display_scores_tf_idf(ranked_documents_1, docid_to_tweetid, tweets, 5)\n"
   ]
  },
  {
   "cell_type": "markdown",
   "metadata": {},
   "source": [
    "#### Query 2"
   ]
  },
  {
   "cell_type": "code",
   "execution_count": 17,
   "metadata": {},
   "outputs": [
    {
     "name": "stdout",
     "output_type": "stream",
     "text": [
      "Top 5 Results:\n",
      "------------------------------------------------------------\n",
      "RESULT 1\n",
      "Document doc_31878: 1.131033092\n",
      "Content: Support farmers, support humanity #Farmersprotest\n",
      "------------------------------------------------------------\n",
      "RESULT 2\n",
      "Document doc_38864: 1.131033092\n",
      "Content: support farmers support #FarmersProtest \n",
      "#शहीद_जवान_शहीद_किसा\n",
      "------------------------------------------------------------\n",
      "RESULT 3\n",
      "Document doc_45741: 1.0921162466666667\n",
      "Content: Support Farmers 🙏🙏🙏🙏🙏🙏#FarmersProtest\n",
      "------------------------------------------------------------\n",
      "RESULT 4\n",
      "Document doc_2815: 1.0921162466666667\n",
      "Content: Support Farmers 🙏🙏🙏🙏🙏🙏#FarmersProtest\n",
      "------------------------------------------------------------\n",
      "RESULT 5\n",
      "Document doc_30390: 1.0921162466666667\n",
      "Content: Support farmers #FarmersProtest\n",
      "------------------------------------------------------------\n"
     ]
    }
   ],
   "source": [
    "# Ranking results with TF-IDF\n",
    "ranked_documents_2 = irk.rank_documents(ipp.build_terms(query2), token_tweets, inverted_index, tf, idf, filter=irk.conjunctive_filtering)\n",
    "irk.display_scores_tf_idf(ranked_documents_2, docid_to_tweetid, tweets, 5)\n"
   ]
  },
  {
   "cell_type": "markdown",
   "metadata": {},
   "source": [
    "#### Query 3"
   ]
  },
  {
   "cell_type": "code",
   "execution_count": 18,
   "metadata": {},
   "outputs": [
    {
     "name": "stdout",
     "output_type": "stream",
     "text": [
      "Top 5 Results:\n",
      "------------------------------------------------------------\n",
      "RESULT 1\n",
      "Document doc_14534: 1.1625731736363636\n",
      "Content: Farmers are in Delhi for their rights, Delhi Police consider them as your fellow countrymen. #DPstopIntimidatingFarmers \n",
      "#FarmersProtest https://t.co/9VqzgkG0Sr\n",
      "------------------------------------------------------------\n",
      "RESULT 2\n",
      "Document doc_29107: 0.9837157623076924\n",
      "Content: Sadly he could not see the lakhs of farmers protesting outside Delhi when he was flying out of Delhi .\n",
      "\n",
      "#IamAgainstModiGovt \n",
      "#FarmersProtest https://t.co/JHrtbfYjOg\n",
      "------------------------------------------------------------\n",
      "RESULT 3\n",
      "Document doc_38281: 0.9837157623076924\n",
      "Content: I blame the Delhi fog. Otherwise he would have seen protesting farmers when he flew out of Delhi this morning. #FarmersProtest https://t.co/DFMS52Ne0R\n",
      "------------------------------------------------------------\n",
      "RESULT 4\n",
      "Document doc_30534: 0.9837157623076924\n",
      "Content: Sadly he could not see the lakhs of farmers protesting outside Delhi when he was flying out of Delhi .\n",
      "\n",
      "#IamAgainstModiGovt \n",
      "#FarmersProtest https://t.co/UDuCBv5aMg\n",
      "------------------------------------------------------------\n",
      "RESULT 5\n",
      "Document doc_19201: 0.9775597807142858\n",
      "Content: The voice of farmers, who are  protesting in delhi must be heard #FarmersProtest\n",
      "------------------------------------------------------------\n"
     ]
    }
   ],
   "source": [
    "# Ranking results with TF-IDF\n",
    "ranked_documents_3 = irk.rank_documents(ipp.build_terms(query3), token_tweets, inverted_index, tf, idf, filter=irk.conjunctive_filtering)\n",
    "irk.display_scores_tf_idf(ranked_documents_3, docid_to_tweetid, tweets, 5)"
   ]
  },
  {
   "cell_type": "markdown",
   "metadata": {},
   "source": [
    "#### Query 4"
   ]
  },
  {
   "cell_type": "code",
   "execution_count": 19,
   "metadata": {},
   "outputs": [
    {
     "name": "stdout",
     "output_type": "stream",
     "text": [
      "Top 5 Results:\n",
      "------------------------------------------------------------\n",
      "RESULT 1\n",
      "Document doc_14701: 3.4573308637499998\n",
      "Content: Corruption Corruption thats what this Government will be Remembered for #DPstopIntimidatingFarmers\n",
      "#FarmersProtest https://t.co/7QsxGwbWmr\n",
      "------------------------------------------------------------\n",
      "RESULT 2\n",
      "Document doc_14680: 3.0731829899999994\n",
      "Content: Corruption Corruption thats what this Government will be Remembered for #DPstopIntimidatingFarmers\n",
      "#FarmersProtest https://t.co/Oxe9SDB01w\n",
      "#DPstopIntimidatingFarmers\n",
      "------------------------------------------------------------\n",
      "RESULT 3\n",
      "Document doc_14671: 3.0731829899999994\n",
      "Content: #MSP_किसान_का_हक \n",
      "Corruption Corruption thats what this Government will be Remembered for #DPstopIntimidatingFarmers\n",
      "#FarmersProtest https://t.co/aTNdwitLS9\n",
      "------------------------------------------------------------\n",
      "RESULT 4\n",
      "Document doc_37261: 1.7815834961111108\n",
      "Content: @rihanna Shame on India fake media and corrupt government #FarmersProtest #BidenAdministration\n",
      "------------------------------------------------------------\n",
      "RESULT 5\n",
      "Document doc_1441: 1.6034251465\n",
      "Content: You just need to comprehend what this corrupt lying bjp government of ours is doing\n",
      "\n",
      "#FarmersProtest \n",
      "#Pagdi_Sambhal_Jatta https://t.co/OO1EJ17tua https://t.co/H79R36qTAo\n",
      "------------------------------------------------------------\n"
     ]
    }
   ],
   "source": [
    "# Ranking results with TF-IDF\n",
    "ranked_documents_4 = irk.rank_documents(ipp.build_terms(query4), token_tweets, inverted_index, tf, idf, filter=irk.conjunctive_filtering)\n",
    "irk.display_scores_tf_idf(ranked_documents_4, docid_to_tweetid, tweets, 5)\n"
   ]
  },
  {
   "cell_type": "markdown",
   "metadata": {},
   "source": [
    "#### Query 5"
   ]
  },
  {
   "cell_type": "code",
   "execution_count": 20,
   "metadata": {},
   "outputs": [
    {
     "name": "stdout",
     "output_type": "stream",
     "text": [
      "Top 5 Results:\n",
      "------------------------------------------------------------\n",
      "RESULT 1\n",
      "Document doc_31745: 2.4150228049999996\n",
      "Content: it's president's day. \n",
      "\n",
      "@joebiden any thoughts about what's been happening in india?? #farmersprotest #nofarmersnofood\n",
      "------------------------------------------------------------\n",
      "RESULT 2\n",
      "Document doc_22798: 1.8112671037499997\n",
      "Content: @POTUS @JoeBiden Mr. President please support Indian farmers #FarmersProtest democracy killed in India..\n",
      "------------------------------------------------------------\n",
      "RESULT 3\n",
      "Document doc_30908: 1.7125492237499995\n",
      "Content: US Lawyers write to President #Biden on #Farmers' Protests:\n",
      "'Your administration comes to office at a time when minority communities across India are in peril,' notes the letter, urging the US President to act.\n",
      "#FarmersProtest https://t.co/wlQVau3nkw\n",
      "------------------------------------------------------------\n",
      "RESULT 4\n",
      "Document doc_27740: 1.1439581707894735\n",
      "Content: I request US President @JoeBiden to protect @dhruv_rathee from Dangerous Supreme leaders of India; @AmitShah and @PMOIndia. Because he is raising his voice for human rights and democracy. #FarmersProtest #AskDhruvRathee\n",
      "------------------------------------------------------------\n",
      "RESULT 5\n",
      "Document doc_21433: 1.1439581707894735\n",
      "Content: @KanganaTeam Who are you to comment on him or say anything to Americans ???? I did not know that America or their President was part of India ????? Weren't you deshbhakats giving the gyan to foreigners not to speak on Indian matters such as #FarmersProtest\n",
      "------------------------------------------------------------\n"
     ]
    }
   ],
   "source": [
    "# Ranking results with TF-IDF\n",
    "ranked_documents_5 = irk.rank_documents(ipp.build_terms(query5), token_tweets, inverted_index, tf, idf, filter=irk.conjunctive_filtering)\n",
    "irk.display_scores_tf_idf(ranked_documents_5, docid_to_tweetid, tweets, 5)"
   ]
  },
  {
   "cell_type": "markdown",
   "metadata": {},
   "source": [
    "# Evaluation"
   ]
  },
  {
   "cell_type": "code",
   "execution_count": 22,
   "metadata": {},
   "outputs": [],
   "source": [
    "query_to_ev_1 = \"People's rights\"\n",
    "query_to_ev_2 = \"Indian Government\"\n",
    "\n",
    "queryid2text = {\n",
    "    1: query_to_ev_1,\n",
    "    2: query_to_ev_2\n",
    "}"
   ]
  },
  {
   "cell_type": "markdown",
   "metadata": {},
   "source": [
    "## Given queries"
   ]
  },
  {
   "cell_type": "code",
   "execution_count": 25,
   "metadata": {},
   "outputs": [
    {
     "name": "stdout",
     "output_type": "stream",
     "text": [
      "[('doc_11633', np.float64(1.0880939042857143)), ('doc_44224', np.float64(0.9520821662500001)), ('doc_47221', np.float64(0.9520821662500001)), ('doc_46347', np.float64(0.8815411888461537)), ('doc_31420', np.float64(0.8462952588888888)), ('doc_2732', np.float64(0.8462952588888888)), ('doc_40001', np.float64(0.8462952588888888)), ('doc_18881', np.float64(0.8462952588888888)), ('doc_16748', np.float64(0.8462952588888888)), ('doc_14469', np.float64(0.8424008744444444)), ('doc_4053', np.float64(0.8185739610714285)), ('doc_45806', np.float64(0.8185739610714285)), ('doc_16330', np.float64(0.8135668953571429)), ('doc_27566', np.float64(0.8135668953571429)), ('doc_2100', np.float64(0.8135668953571429)), ('doc_41111', np.float64(0.7640023636666666)), ('doc_12676', np.float64(0.7640023636666666)), ('doc_27577', np.float64(0.7640023636666666)), ('doc_21418', np.float64(0.7616657330000001)), ('doc_13361', np.float64(0.7616657330000001)), ('doc_10184', np.float64(0.7593291023333333)), ('doc_10185', np.float64(0.7593291023333333)), ('doc_10181', np.float64(0.7593291023333333)), ('doc_10179', np.float64(0.7593291023333333)), ('doc_10178', np.float64(0.7593291023333333)), ('doc_10188', np.float64(0.7593291023333333)), ('doc_10189', np.float64(0.7593291023333333)), ('doc_10182', np.float64(0.7118710334375)), ('doc_10180', np.float64(0.7118710334375)), ('doc_48169', np.float64(0.6924233936363637)), ('doc_15120', np.float64(0.6741197326470588)), ('doc_9850', np.float64(0.6741197326470588)), ('doc_18045', np.float64(0.6699962667647059)), ('doc_30957', np.float64(0.6699962667647059)), ('doc_27922', np.float64(0.665365807826087)), ('doc_8894', np.float64(0.6553997884482758)), ('doc_23316', np.float64(0.6366686363888888)), ('doc_28193', np.float64(0.6347214441666666)), ('doc_20332', np.float64(0.6347214441666666)), ('doc_27608', np.float64(0.6347214441666666)), ('doc_31457', np.float64(0.6347214441666666)), ('doc_19128', np.float64(0.5858967176923077)), ('doc_18606', np.float64(0.5858967176923077)), ('doc_38048', np.float64(0.5858967176923077)), ('doc_35354', np.float64(0.5858967176923077)), ('doc_6840', np.float64(0.5858967176923077)), ('doc_8819', np.float64(0.5858967176923077)), ('doc_30427', np.float64(0.5858967176923077)), ('doc_38383', np.float64(0.5858967176923077)), ('doc_31942', np.float64(0.5858967176923077)), ('doc_15414', np.float64(0.5858967176923077)), ('doc_26975', np.float64(0.57300177275)), ('doc_25954', np.float64(0.545715974047619)), ('doc_11890', np.float64(0.545715974047619)), ('doc_29129', np.float64(0.5440469521428571)), ('doc_32598', np.float64(0.5440469521428571)), ('doc_11440', np.float64(0.5440469521428571)), ('doc_17462', np.float64(0.5440469521428571)), ('doc_32900', np.float64(0.5440469521428571)), ('doc_2171', np.float64(0.5440469521428571)), ('doc_27795', np.float64(0.5440469521428571)), ('doc_22746', np.float64(0.5440469521428571)), ('doc_43341', np.float64(0.5440469521428571)), ('doc_30248', np.float64(0.5209107025)), ('doc_40576', np.float64(0.5177243879545455)), ('doc_32058', np.float64(0.5077771553333332)), ('doc_29082', np.float64(0.5077771553333332)), ('doc_45663', np.float64(0.5077771553333332)), ('doc_21198', np.float64(0.5077771553333332)), ('doc_37165', np.float64(0.5077771553333332)), ('doc_25486', np.float64(0.4952146319565217)), ('doc_23087', np.float64(0.4952146319565217)), ('doc_25971', np.float64(0.47604108312500004)), ('doc_44863', np.float64(0.47604108312500004)), ('doc_11180', np.float64(0.47604108312500004)), ('doc_8066', np.float64(0.47604108312500004)), ('doc_18848', np.float64(0.47604108312500004)), ('doc_16918', np.float64(0.47604108312500004)), ('doc_41749', np.float64(0.47604108312500004)), ('doc_47271', np.float64(0.47458068895833333)), ('doc_19298', np.float64(0.47458068895833333)), ('doc_27963', np.float64(0.47458068895833333)), ('doc_35269', np.float64(0.47458068895833333)), ('doc_9696', np.float64(0.4584014182)), ('doc_19080', np.float64(0.4584014182)), ('doc_28672', np.float64(0.4555974614)), ('doc_29789', np.float64(0.4555974614)), ('doc_42648', np.float64(0.44803866647058826)), ('doc_18905', np.float64(0.44803866647058826)), ('doc_37689', np.float64(0.44803866647058826)), ('doc_5480', np.float64(0.44803866647058826)), ('doc_39179', np.float64(0.44803866647058826)), ('doc_22385', np.float64(0.44803866647058826)), ('doc_32843', np.float64(0.4380744821153846)), ('doc_44076', np.float64(0.4380744821153846)), ('doc_17403', np.float64(0.4380744821153846)), ('doc_10409', np.float64(0.42444575759259257)), ('doc_6477', np.float64(0.42444575759259257)), ('doc_10402', np.float64(0.42444575759259257)), ('doc_10455', np.float64(0.42444575759259257)), ('doc_14969', np.float64(0.4231476294444444)), ('doc_2828', np.float64(0.4231476294444444)), ('doc_21756', np.float64(0.4231476294444444)), ('doc_11094', np.float64(0.4231476294444444)), ('doc_28626', np.float64(0.4231476294444444)), ('doc_10428', np.float64(0.4092869805357143)), ('doc_10438', np.float64(0.4092869805357143)), ('doc_10431', np.float64(0.4092869805357143)), ('doc_10386', np.float64(0.4092869805357143)), ('doc_10419', np.float64(0.4092869805357143)), ('doc_10456', np.float64(0.4092869805357143)), ('doc_10459', np.float64(0.4092869805357143)), ('doc_48316', np.float64(0.40678344767857144)), ('doc_17371', np.float64(0.40087670157894734)), ('doc_36542', np.float64(0.40087670157894734)), ('doc_17105', np.float64(0.40087670157894734)), ('doc_10332', np.float64(0.40087670157894734)), ('doc_34945', np.float64(0.40087670157894734)), ('doc_33656', np.float64(0.40087670157894734)), ('doc_41831', np.float64(0.39517363637931036)), ('doc_10423', np.float64(0.39517363637931036)), ('doc_32894', np.float64(0.39275643224137935)), ('doc_25497', np.float64(0.38083286650000003)), ('doc_22257', np.float64(0.38083286650000003)), ('doc_44416', np.float64(0.38083286650000003)), ('doc_33753', np.float64(0.38083286650000003)), ('doc_18772', np.float64(0.38083286650000003)), ('doc_39824', np.float64(0.38083286650000003)), ('doc_2710', np.float64(0.38083286650000003)), ('doc_22841', np.float64(0.38083286650000003)), ('doc_3678', np.float64(0.38083286650000003)), ('doc_36410', np.float64(0.38083286650000003)), ('doc_44604', np.float64(0.38083286650000003)), ('doc_31257', np.float64(0.38083286650000003)), ('doc_35443', np.float64(0.38083286650000003)), ('doc_40766', np.float64(0.37966455116666664)), ('doc_13636', np.float64(0.36741730758064517)), ('doc_32467', np.float64(0.3626979680952381)), ('doc_25541', np.float64(0.3626979680952381)), ('doc_17742', np.float64(0.3626979680952381)), ('doc_20726', np.float64(0.3626979680952381)), ('doc_44603', np.float64(0.3626979680952381)), ('doc_11916', np.float64(0.3626979680952381)), ('doc_38002', np.float64(0.3626979680952381)), ('doc_46675', np.float64(0.3626979680952381)), ('doc_44487', np.float64(0.35812610796875)), ('doc_20651', np.float64(0.34727380166666666)), ('doc_19293', np.float64(0.34727380166666666)), ('doc_19110', np.float64(0.34727380166666666)), ('doc_10048', np.float64(0.34621169681818187)), ('doc_5751', np.float64(0.34621169681818187)), ('doc_31405', np.float64(0.34621169681818187)), ('doc_34371', np.float64(0.34621169681818187)), ('doc_44608', np.float64(0.34621169681818187)), ('doc_46025', np.float64(0.34621169681818187)), ('doc_36777', np.float64(0.34621169681818187)), ('doc_47355', np.float64(0.34621169681818187)), ('doc_32294', np.float64(0.34621169681818187)), ('doc_27175', np.float64(0.34621169681818187)), ('doc_26919', np.float64(0.34621169681818187)), ('doc_35602', np.float64(0.34621169681818187)), ('doc_12963', np.float64(0.34621169681818187)), ('doc_44928', np.float64(0.34621169681818187)), ('doc_19343', np.float64(0.3370598663235294)), ('doc_19356', np.float64(0.3370598663235294)), ('doc_20486', np.float64(0.3370598663235294)), ('doc_18921', np.float64(0.3370598663235294)), ('doc_19329', np.float64(0.3370598663235294)), ('doc_19358', np.float64(0.3370598663235294)), ('doc_19305', np.float64(0.3370598663235294)), ('doc_19300', np.float64(0.3370598663235294)), ('doc_19349', np.float64(0.3370598663235294)), ('doc_18646', np.float64(0.3370598663235294)), ('doc_20465', np.float64(0.3370598663235294)), ('doc_19307', np.float64(0.3370598663235294)), ('doc_20478', np.float64(0.3370598663235294)), ('doc_19350', np.float64(0.3370598663235294)), ('doc_18982', np.float64(0.3370598663235294)), ('doc_19299', np.float64(0.3370598663235294)), ('doc_19346', np.float64(0.3370598663235294)), ('doc_18689', np.float64(0.3370598663235294)), ('doc_19034', np.float64(0.3370598663235294)), ('doc_20460', np.float64(0.3370598663235294)), ('doc_19327', np.float64(0.3370598663235294)), ('doc_19302', np.float64(0.3370598663235294)), ('doc_19314', np.float64(0.3370598663235294)), ('doc_20502', np.float64(0.3370598663235294)), ('doc_19354', np.float64(0.3370598663235294)), ('doc_19352', np.float64(0.3370598663235294)), ('doc_18967', np.float64(0.3370598663235294)), ('doc_19310', np.float64(0.3370598663235294)), ('doc_19338', np.float64(0.3370598663235294)), ('doc_20340', np.float64(0.3370598663235294)), ('doc_18971', np.float64(0.3370598663235294)), ('doc_20455', np.float64(0.3370598663235294)), ('doc_20495', np.float64(0.3370598663235294)), ('doc_18997', np.float64(0.3370598663235294)), ('doc_20471', np.float64(0.3370598663235294)), ('doc_20509', np.float64(0.3370598663235294)), ('doc_19323', np.float64(0.3370598663235294)), ('doc_31721', np.float64(0.3311590143478261)), ('doc_33067', np.float64(0.3311590143478261)), ('doc_32033', np.float64(0.3311590143478261)), ('doc_36741', np.float64(0.3311590143478261)), ('doc_41871', np.float64(0.3311590143478261)), ('doc_24046', np.float64(0.3311590143478261)), ('doc_37174', np.float64(0.3311590143478261)), ('doc_42468', np.float64(0.3173607220833333)), ('doc_28419', np.float64(0.3173607220833333)), ('doc_45761', np.float64(0.3173607220833333)), ('doc_44217', np.float64(0.3173607220833333)), ('doc_19005', np.float64(0.3173607220833333)), ('doc_15507', np.float64(0.3173607220833333)), ('doc_35151', np.float64(0.3173607220833333)), ('doc_18506', np.float64(0.3173607220833333)), ('doc_30019', np.float64(0.3173607220833333)), ('doc_39630', np.float64(0.3173607220833333)), ('doc_2459', np.float64(0.3173607220833333)), ('doc_20570', np.float64(0.309730687972973)), ('doc_37312', np.float64(0.30466629320000005)), ('doc_27802', np.float64(0.30466629320000005)), ('doc_34478', np.float64(0.30466629320000005)), ('doc_43540', np.float64(0.30466629320000005)), ('doc_27428', np.float64(0.30466629320000005)), ('doc_1934', np.float64(0.30466629320000005)), ('doc_21551', np.float64(0.30466629320000005)), ('doc_12960', np.float64(0.30466629320000005)), ('doc_6204', np.float64(0.30466629320000005)), ('doc_35903', np.float64(0.30466629320000005)), ('doc_36103', np.float64(0.30466629320000005)), ('doc_32955', np.float64(0.29294835884615383)), ('doc_31986', np.float64(0.29294835884615383)), ('doc_32529', np.float64(0.29294835884615383)), ('doc_26061', np.float64(0.29294835884615383)), ('doc_36849', np.float64(0.29294835884615383)), ('doc_634', np.float64(0.2820984196296296)), ('doc_10404', np.float64(0.2820984196296296)), ('doc_15234', np.float64(0.2820984196296296)), ('doc_32672', np.float64(0.2820984196296296)), ('doc_27899', np.float64(0.2820984196296296)), ('doc_46793', np.float64(0.2820984196296296)), ('doc_24581', np.float64(0.27202347607142857)), ('doc_7211', np.float64(0.27202347607142857)), ('doc_39864', np.float64(0.27202347607142857)), ('doc_18093', np.float64(0.27202347607142857)), ('doc_36047', np.float64(0.27202347607142857)), ('doc_27955', np.float64(0.27202347607142857)), ('doc_6700', np.float64(0.27202347607142857)), ('doc_6510', np.float64(0.27202347607142857)), ('doc_3570', np.float64(0.26264335620689655)), ('doc_5512', np.float64(0.26264335620689655)), ('doc_1047', np.float64(0.26264335620689655)), ('doc_12052', np.float64(0.2538885776666666)), ('doc_39809', np.float64(0.2538885776666666)), ('doc_32877', np.float64(0.2538885776666666)), ('doc_3287', np.float64(0.2538885776666666)), ('doc_6899', np.float64(0.2538885776666666)), ('doc_30522', np.float64(0.2538885776666666)), ('doc_36495', np.float64(0.2456986235483871)), ('doc_36727', np.float64(0.2456986235483871)), ('doc_33375', np.float64(0.2456986235483871)), ('doc_36518', np.float64(0.2456986235483871)), ('doc_36524', np.float64(0.2456986235483871)), ('doc_36527', np.float64(0.2456986235483871)), ('doc_36715', np.float64(0.2456986235483871)), ('doc_36724', np.float64(0.2456986235483871)), ('doc_36498', np.float64(0.2456986235483871)), ('doc_29509', np.float64(0.2456986235483871)), ('doc_33636', np.float64(0.23802054156250002)), ('doc_11997', np.float64(0.23802054156250002)), ('doc_48158', np.float64(0.23802054156250002)), ('doc_9955', np.float64(0.2308077978787879)), ('doc_11719', np.float64(0.2308077978787879)), ('doc_12050', np.float64(0.2308077978787879)), ('doc_12051', np.float64(0.22401933323529413)), ('doc_9937', np.float64(0.22401933323529413)), ('doc_11705', np.float64(0.22401933323529413)), ('doc_22526', np.float64(0.22401933323529413)), ('doc_11700', np.float64(0.22401933323529413)), ('doc_11736', np.float64(0.22401933323529413))]\n"
     ]
    }
   ],
   "source": [
    "scores_evq1 = irk.rank_documents(ipp.build_terms(query_to_ev_1), token_tweets, inverted_index, tf, idf, filter=irk.conjunctive_filtering)\n",
    "scores_evq2 = irk.rank_documents(ipp.build_terms(query_to_ev_2), token_tweets, inverted_index, tf, idf, filter=irk.conjunctive_filtering)"
   ]
  },
  {
   "cell_type": "code",
   "execution_count": 42,
   "metadata": {},
   "outputs": [],
   "source": [
    "# Convert the lists to DataFrames\n",
    "df_query_1 = pd.DataFrame(scores_evq1, columns=['doc_id', 'score'])\n",
    "df_query_2 = pd.DataFrame(scores_evq2, columns=['doc_id', 'score'])\n",
    "\n",
    "# Add a column for query_id\n",
    "df_query_1['query_id'] = 1\n",
    "df_query_2['query_id'] = 2\n",
    "\n",
    "# Concatenate the two DataFrames\n",
    "search_results = pd.concat([df_query_1, df_query_2], ignore_index=True)\n",
    "search_results = search_results[[\"query_id\", \"doc_id\", \"score\"]] #reorder cols\n",
    "\n",
    "evaluation = pd.read_csv(\"../data/evaluation_gt.csv\", delimiter=\";\")\n",
    "results = pd.merge(evaluation, search_results, how='left', left_on=['docId', 'query_id'], right_on=['doc_id', 'query_id'])\n",
    "results.drop(columns=['doc_id'], inplace=True)\n",
    "# Fill Nan with 0 as it means that is has not found any relevant score for such query\n",
    "results.fillna(0, inplace=True)\n",
    "\n",
    "#Rename columns for better usage\n",
    "results.columns = [\"doc_id\", \"query_id\", \"is_relevant\", \"predicted_relevance\"]\n",
    "results = results[[\"query_id\", \"doc_id\", \"is_relevant\", \"predicted_relevance\"]]"
   ]
  },
  {
   "cell_type": "code",
   "execution_count": 40,
   "metadata": {},
   "outputs": [
    {
     "name": "stdout",
     "output_type": "stream",
     "text": [
      "1\n",
      "-------------------------------------------------------------------------------------------\n",
      "Out of 30 documents, 15 are found relevant for query 'People's rights'\n",
      "-------------------------------------------------------------------------------------------\n",
      "2\n",
      "-------------------------------------------------------------------------------------------\n",
      "Out of 30 documents, 15 are found relevant for query 'Indian Government'\n",
      "-------------------------------------------------------------------------------------------\n"
     ]
    }
   ],
   "source": [
    "for query in results['query_id'].unique():\n",
    "    print(query)\n",
    "    # Count relevant documents for the current query\n",
    "    relevant_count = results[results['query_id'] == query]['is_relevant'].sum()\n",
    "    \n",
    "    print(\"-------------------------------------------------------------------------------------------\")\n",
    "    print(f\"Out of {len(results[results['query_id'] == query])} documents, {relevant_count} are found relevant for query '{queryid2text.get(query, 'Unknown query')}'\")\n",
    "    print(\"-------------------------------------------------------------------------------------------\")"
   ]
  },
  {
   "cell_type": "markdown",
   "metadata": {},
   "source": [
    "### Precision@K (P@K)"
   ]
  },
  {
   "cell_type": "code",
   "execution_count": 69,
   "metadata": {},
   "outputs": [
    {
     "name": "stderr",
     "output_type": "stream",
     "text": [
      "C:\\Users\\Usuari\\AppData\\Local\\Temp\\ipykernel_5496\\2359606978.py:2: UserWarning: Boolean Series key will be reindexed to match DataFrame index.\n",
      "  current_query_res = results[search_results[\"query_id\"] == 1]\n"
     ]
    }
   ],
   "source": [
    "# Assign the current query\n",
    "current_query_res = results[search_results[\"query_id\"] == 1]"
   ]
  },
  {
   "cell_type": "code",
   "execution_count": 76,
   "metadata": {},
   "outputs": [
    {
     "name": "stdout",
     "output_type": "stream",
     "text": [
      "==> Precision@25: 0.92\n",
      "\n",
      "==> Precision@20: 0.95\n",
      "\n"
     ]
    }
   ],
   "source": [
    "pre_k25, rec_k25 = eva.precision_at_k(current_query_res[\"is_relevant\"], current_query_res[\"predicted_relevance\"], 25)\n",
    "pre_k20, rec_k20 = eva.precision_at_k(current_query_res[\"is_relevant\"], current_query_res[\"predicted_relevance\"], 20)\n",
    "\n",
    "\n",
    "print(\"==> Precision@{}: {}\\n\".format(25, pre_k25))\n",
    "print(\"==> Precision@{}: {}\\n\".format(20, pre_k20))"
   ]
  },
  {
   "cell_type": "markdown",
   "metadata": {},
   "source": [
    "### Recall@K (R@k) "
   ]
  },
  {
   "cell_type": "code",
   "execution_count": 78,
   "metadata": {},
   "outputs": [
    {
     "name": "stdout",
     "output_type": "stream",
     "text": [
      "==> Recall@25: 1.0\n",
      "\n",
      "==> Recall@20: 1.0\n",
      "\n"
     ]
    }
   ],
   "source": [
    "print(\"==> Recall@{}: {}\\n\".format(25, rec_k25))\n",
    "print(\"==> Recall@{}: {}\\n\".format(20, rec_k20))"
   ]
  },
  {
   "cell_type": "markdown",
   "metadata": {},
   "source": [
    "### Avgerage Precision@K (P@K)"
   ]
  },
  {
   "cell_type": "code",
   "execution_count": 60,
   "metadata": {},
   "outputs": [
    {
     "data": {
      "text/plain": [
       "np.float64(0.9870474390134127)"
      ]
     },
     "execution_count": 60,
     "metadata": {},
     "output_type": "execute_result"
    }
   ],
   "source": [
    "eva.avg_precision_at_k(np.array(current_query_res[\"is_relevant\"]), np.array(current_query_res[\"predicted_relevance\"]), 25)"
   ]
  },
  {
   "cell_type": "code",
   "execution_count": 61,
   "metadata": {},
   "outputs": [
    {
     "data": {
      "text/plain": [
       "np.float64(0.9860869565217392)"
      ]
     },
     "execution_count": 61,
     "metadata": {},
     "output_type": "execute_result"
    }
   ],
   "source": [
    "k = 25\n",
    "temp = current_query_res.sort_values(\"predicted_relevance\", ascending=False).head(k)\n",
    "average_precision_score(np.array(temp[\"is_relevant\"]), np.array(temp[\"predicted_relevance\"][:k]))"
   ]
  },
  {
   "cell_type": "markdown",
   "metadata": {},
   "source": [
    "### F1-Score@K"
   ]
  },
  {
   "cell_type": "code",
   "execution_count": 87,
   "metadata": {},
   "outputs": [
    {
     "name": "stdout",
     "output_type": "stream",
     "text": [
      "F-1 Score for k = 20 is: 0.9743589743589743\n",
      "F-1 Score for k = 25 is: 0.9583333333333334\n"
     ]
    }
   ],
   "source": [
    "print(f\"F-1 Score for k = 20 is: {eva.f1_score(pre_k20, rec_k20)}\")\n",
    "print(f\"F-1 Score for k = 25 is: {eva.f1_score(pre_k25, rec_k25)}\")\n"
   ]
  },
  {
   "cell_type": "markdown",
   "metadata": {},
   "source": [
    "### Mean Average Precision (MAP)"
   ]
  },
  {
   "cell_type": "code",
   "execution_count": 63,
   "metadata": {},
   "outputs": [
    {
     "data": {
      "text/plain": [
       "np.float64(0.9625440630797774)"
      ]
     },
     "execution_count": 63,
     "metadata": {},
     "output_type": "execute_result"
    }
   ],
   "source": [
    "map_k, avp = eva.map_at_k(results, 25)\n",
    "map_k"
   ]
  },
  {
   "cell_type": "markdown",
   "metadata": {},
   "source": [
    "### Mean Reciprocal Rank (MRR)"
   ]
  },
  {
   "cell_type": "code",
   "execution_count": 65,
   "metadata": {},
   "outputs": [
    {
     "data": {
      "text/plain": [
       "np.float64(1.0)"
      ]
     },
     "execution_count": 65,
     "metadata": {},
     "output_type": "execute_result"
    }
   ],
   "source": [
    "k = 5\n",
    "labels = np.array(results[results['query_id'] == 1][\"is_relevant\"])\n",
    "scores = np.array(results[results['query_id'] == 1][\"predicted_relevance\"])\n",
    "np.round(eva.rr_at_k(labels, scores, 13), 4)"
   ]
  },
  {
   "cell_type": "markdown",
   "metadata": {},
   "source": [
    "### Normalized Discounted Cumulative Gain (NDCG)"
   ]
  },
  {
   "cell_type": "code",
   "execution_count": 67,
   "metadata": {},
   "outputs": [
    {
     "name": "stdout",
     "output_type": "stream",
     "text": [
      "ndcg@5 for query with query_id=1: 1.0\n"
     ]
    }
   ],
   "source": [
    "ndcg_k = np.round(eva.ndcg_at_k(labels, scores, k), 4)\n",
    "print(\"ndcg@{} for query with query_id={}: {}\".format(k, 1, ndcg_k))"
   ]
  },
  {
   "cell_type": "code",
   "execution_count": 27,
   "metadata": {},
   "outputs": [
    {
     "name": "stdout",
     "output_type": "stream",
     "text": [
      "ndcg@5 for query with query_id=2: 1.0\n"
     ]
    }
   ],
   "source": [
    "labels = np.array(results[results['query_id'] == 2][\"is_relevant\"])\n",
    "scores = np.array(results[results['query_id'] == 2][\"predicted_relevance\"])\n",
    "ndcg_k = np.round(eva.ndcg_at_k(labels, scores, k), 4)\n",
    "print(\"ndcg@{} for query with query_id={}: {}\".format(k, 2, ndcg_k))"
   ]
  },
  {
   "cell_type": "markdown",
   "metadata": {},
   "source": [
    "# Own queries"
   ]
  },
  {
   "cell_type": "markdown",
   "metadata": {},
   "source": [
    "## Defining Scores"
   ]
  },
  {
   "cell_type": "code",
   "execution_count": null,
   "metadata": {},
   "outputs": [],
   "source": [
    "query1 = \"Indian protest\"      # Example given in handout\n",
    "query2 = \"support farmers\"     # Example given in handout\n",
    "query3 = \"Delhi farmers\"\n",
    "query4 = \"Government corrupt\"\n",
    "query5 = \"president India\"\n",
    "\n",
    "# Convert the lists to DataFrames\n",
    "df_q1 = pd.DataFrame(ranked_documents_1, columns=['doc_id', 'score'])\n",
    "df_q2 = pd.DataFrame(ranked_documents_2, columns=['doc_id', 'score'])\n",
    "df_q3 = pd.DataFrame(ranked_documents_3, columns=['doc_id', 'score'])\n",
    "df_q4 = pd.DataFrame(ranked_documents_4, columns=['doc_id', 'score'])\n",
    "df_q5 = pd.DataFrame(ranked_documents_5, columns=['doc_id', 'score'])\n",
    "\n",
    "\n",
    "# Add a column for query_id\n",
    "df_q1['query_id'] = 1\n",
    "df_q2['query_id'] = 2\n",
    "df_q3['query_id'] = 3\n",
    "df_q4['query_id'] = 4\n",
    "df_q5['query_id'] = 5\n",
    "\n",
    "# Concatenate the two DataFrames\n",
    "search_results = pd.concat([df_q1, df_q2, df_q3, df_q4, df_q5], ignore_index=True)\n",
    "search_results = search_results[[\"query_id\", \"doc_id\", \"score\"]] #reorder cols\n",
    "\n",
    "evaluation = pd.read_csv(\"../data/evaluation_gt_5queries.csv\", delimiter=\";\")\n",
    "results = pd.merge(evaluation, search_results, how='left', left_on=['docId', 'query_id'], right_on=['doc_id', 'query_id'])\n",
    "results.drop(columns=['doc_id'], inplace=True)\n",
    "# Fill Nan with 0 as it means that is has not found any relevant score for such query\n",
    "results.fillna(0, inplace=True)\n",
    "\n",
    "#Rename columns for better usage\n",
    "results.columns = [\"doc_id\", \"query_id\", \"is_relevant\", \"predicted_relevance\"]\n",
    "results = results[[\"query_id\", \"doc_id\", \"is_relevant\", \"predicted_relevance\"]]"
   ]
  },
  {
   "cell_type": "markdown",
   "metadata": {},
   "source": [
    "### Precision@K (P@K)"
   ]
  },
  {
   "cell_type": "markdown",
   "metadata": {},
   "source": [
    "### Recall@K (R@K)"
   ]
  },
  {
   "cell_type": "markdown",
   "metadata": {},
   "source": [
    "### Average Precision@K (P@K)"
   ]
  },
  {
   "cell_type": "markdown",
   "metadata": {},
   "source": [
    "### F1-Score@K"
   ]
  },
  {
   "cell_type": "markdown",
   "metadata": {},
   "source": [
    "### Mean Average Precision (MAP)"
   ]
  },
  {
   "cell_type": "markdown",
   "metadata": {},
   "source": [
    "### Mean Reciprocal Rank (MRR)"
   ]
  },
  {
   "cell_type": "markdown",
   "metadata": {},
   "source": [
    "## T-SNE"
   ]
  }
 ],
 "metadata": {
  "kernelspec": {
   "display_name": ".venv",
   "language": "python",
   "name": "python3"
  },
  "language_info": {
   "codemirror_mode": {
    "name": "ipython",
    "version": 3
   },
   "file_extension": ".py",
   "mimetype": "text/x-python",
   "name": "python",
   "nbconvert_exporter": "python",
   "pygments_lexer": "ipython3",
   "version": "3.11.9"
  }
 },
 "nbformat": 4,
 "nbformat_minor": 2
}
